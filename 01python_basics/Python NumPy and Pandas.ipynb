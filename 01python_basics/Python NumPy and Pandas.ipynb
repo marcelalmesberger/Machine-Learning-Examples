{
 "cells": [
  {
   "cell_type": "markdown",
   "metadata": {},
   "source": [
    "# Exercise 1: Signal Processing & Machine Learning for Digital Healthcare\n",
    "\n",
    "## Part 1: Python, NumPy and Pandas\n",
    "\n",
    "If you want to learn more about Python, the following course is recommended: [Python Essential Training](https://www.linkedin.com/learning/python-essential-training-2) on LinkedIn Learning (or Lynda). Chapters 2-7 are mostly relevant.\n",
    "\n",
    "There are also some cheat sheets you can use to remind yourself of the basic concepts in python:\n",
    "* [Python 3 Cheat Sheet](https://groklearning-cdn.com/resources/cheatsheet-python-1.pdf) by GROK Learning\n",
    "* [Python 3 Cheat Sheet](https://perso.limsi.fr/pointal/_media/python:cours:mementopython3-english.pdf) by Laurent Pointal"
   ]
  },
  {
   "cell_type": "markdown",
   "metadata": {},
   "source": [
    "## Exercise 1.1: Comments\n",
    "\n",
    "Write your first name, family name and student ID number in comments:"
   ]
  },
  {
   "cell_type": "code",
   "execution_count": 1,
   "metadata": {},
   "outputs": [],
   "source": [
    "# Marcel\n",
    "# Almesberger\n",
    "# dh181812"
   ]
  },
  {
   "cell_type": "markdown",
   "metadata": {},
   "source": [
    "## Exercise 1.2: String Variables and Assignments\n",
    "\n",
    "Assign to a variable 's1' your first name as a string and to a variable 's2' your family name as a string. Concatinate those two strings into a new variable 's3' so that there is a space between the names, e.g. \"Max Müller\". Print variable 's3'. "
   ]
  },
  {
   "cell_type": "code",
   "execution_count": 2,
   "metadata": {},
   "outputs": [
    {
     "data": {
      "text/plain": [
       "'Marcel Almesberger'"
      ]
     },
     "execution_count": 2,
     "metadata": {},
     "output_type": "execute_result"
    }
   ],
   "source": [
    "s1 = \"Marcel\"\n",
    "s2 = \"Almesberger\"\n",
    "s3 = s1 + \" \" + s2\n",
    "s3"
   ]
  },
  {
   "cell_type": "markdown",
   "metadata": {},
   "source": [
    "## Exercise 1.3: Numeric Variables\n",
    "\n",
    "Assign to a variable 'x' the value 10 and to a variable 'y' the value 5. You should perform basic arithmetic operations: a) add, b) subtract, c) divide, and d) multiply the two variables and save the results into new variables.\n",
    "\n",
    "Output the results by calling the print( ) function only once: concatenate all results to one string.\n",
    "\n",
    "Hint: you can use the F syntax or the format( ) function inside the print function to insert values of variables in a string. \n",
    "\n",
    "Additionally: print the type of variable x and the variable containing the result of the division. Why are they different? Explain in a comment."
   ]
  },
  {
   "cell_type": "code",
   "execution_count": 3,
   "metadata": {},
   "outputs": [],
   "source": [
    "# Arithmetic operations:"
   ]
  },
  {
   "cell_type": "code",
   "execution_count": 4,
   "metadata": {},
   "outputs": [
    {
     "name": "stdout",
     "output_type": "stream",
     "text": [
      "Addition: 15, Substraction: 5, Division: 2.0, Multiplication: 50\n"
     ]
    }
   ],
   "source": [
    "x = 10\n",
    "y = 5\n",
    "\n",
    "add = x + y\n",
    "substract = x - y\n",
    "divide = x / y\n",
    "multiply = x * y\n",
    "\n",
    "print(f\"Addition: {add}, Substraction: {substract}, Division: {divide}, Multiplication: {multiply}\")"
   ]
  },
  {
   "cell_type": "code",
   "execution_count": 5,
   "metadata": {},
   "outputs": [],
   "source": [
    "# Datatypes"
   ]
  },
  {
   "cell_type": "code",
   "execution_count": 6,
   "metadata": {},
   "outputs": [
    {
     "data": {
      "text/plain": [
       "int"
      ]
     },
     "execution_count": 6,
     "metadata": {},
     "output_type": "execute_result"
    }
   ],
   "source": [
    "type(x)"
   ]
  },
  {
   "cell_type": "code",
   "execution_count": 7,
   "metadata": {},
   "outputs": [
    {
     "data": {
      "text/plain": [
       "float"
      ]
     },
     "execution_count": 7,
     "metadata": {},
     "output_type": "execute_result"
    }
   ],
   "source": [
    "type(divide)"
   ]
  },
  {
   "cell_type": "code",
   "execution_count": 8,
   "metadata": {},
   "outputs": [],
   "source": [
    "# The variables are saved as different datatypes \"integer\" and \"float\". \n",
    "# Variables with the integer datatype can only represent whole-numbers (2, 5, -4).\n",
    "# Variables with the float datatype can represent decimal numbers (2.5, 5.43).\n",
    "# The difference is that these datatypes are saved different (data storage, floats are saved as logarithms)."
   ]
  },
  {
   "cell_type": "markdown",
   "metadata": {},
   "source": [
    "## Exercise 1.4: Input and If\n",
    "\n",
    "First employ the input( ) function to ask the user to enter a number. The input of the user should be assigned to a variable 's'. Convert the string into an integer and assign the new value to a variable 'i'. Check if the input is greater, equal or smaller than zero. If it is greater than zero print \"This is a positive number!\", if it is equal to zero print \"This number equals zero!\" and if it is smaller than zero print \"This is a negative number!\"\n",
    "\n",
    "Question: what happens if the input is a decimal number? How can you solve this problem, so that the conversion to integer (int) still works?"
   ]
  },
  {
   "cell_type": "code",
   "execution_count": 9,
   "metadata": {},
   "outputs": [
    {
     "name": "stdin",
     "output_type": "stream",
     "text": [
      "Please enter a number: 5\n"
     ]
    },
    {
     "name": "stdout",
     "output_type": "stream",
     "text": [
      "This is a positive number!\n"
     ]
    }
   ],
   "source": [
    "s = input(\"Please enter a number:\")\n",
    "i = int(s)\n",
    "\n",
    "if i > 0:\n",
    "    print(\"This is a positive number!\")\n",
    "elif i == 0:\n",
    "    print(\"This number equals zero!\")\n",
    "elif i < 0:\n",
    "    print(\"This is a negative number!\")"
   ]
  },
  {
   "cell_type": "code",
   "execution_count": 10,
   "metadata": {},
   "outputs": [],
   "source": [
    "# by entering a decimal number you will get an Error Message, because entering a integer is required in this code block."
   ]
  },
  {
   "cell_type": "code",
   "execution_count": 11,
   "metadata": {},
   "outputs": [],
   "source": [
    "# to solve this problem you first have to convert the input into a float and afterwards convert it into an integer."
   ]
  },
  {
   "cell_type": "code",
   "execution_count": 12,
   "metadata": {},
   "outputs": [
    {
     "name": "stdin",
     "output_type": "stream",
     "text": [
      "Please enter a decimal number: 2.5\n"
     ]
    },
    {
     "name": "stdout",
     "output_type": "stream",
     "text": [
      "This is a positive number!\n"
     ]
    }
   ],
   "source": [
    "s1 = input(\"Please enter a decimal number:\")\n",
    "f1 = float(s1)\n",
    "i1 = int(f1)\n",
    "\n",
    "if i1 > 0:\n",
    "    print(\"This is a positive number!\")\n",
    "elif i1 == 0:\n",
    "    print(\"This number equals zero!\")\n",
    "elif i1 < 0:\n",
    "    print(\"This is a negative number\")"
   ]
  },
  {
   "cell_type": "markdown",
   "metadata": {},
   "source": [
    "## Exercise 1.5: Functions\n",
    "\n",
    "Define a function called 'myMultiplication', which should have two parameters 'a' (default value: 2) and 'b' (default value: 3). In the function you should implement an algorithm which calculates the multiplication of the two parameters by employing only one 'for' or 'while' loop and addition '+' (do not use the multiplication operator *, instead use a loop to compute a*b by adding up a to a for b times). \n",
    "\n",
    "a) Call the function once without parameters and print the result.\n",
    "\n",
    "b) Call the function with the last and the penultimate number of your students ID-Number. Print the result and than also your students ID-Number in following form: \"My ID is: 1733456 and the result of myMultiplication is: 30\" (last number = 6, penultimate = 5, result = 5*6)"
   ]
  },
  {
   "cell_type": "code",
   "execution_count": 13,
   "metadata": {},
   "outputs": [],
   "source": [
    "# Function definition"
   ]
  },
  {
   "cell_type": "code",
   "execution_count": 14,
   "metadata": {},
   "outputs": [],
   "source": [
    "def myMultiplication (a = 2, b = 3, id = \"default\"):\n",
    "    result = a\n",
    "    c = a * b\n",
    "    while result < c:\n",
    "        result += a\n",
    "    print(f\"My ID is: {id} and the result of myMultiplication is: {result}\")"
   ]
  },
  {
   "cell_type": "code",
   "execution_count": 15,
   "metadata": {},
   "outputs": [],
   "source": [
    "# Calling function with default parameters"
   ]
  },
  {
   "cell_type": "code",
   "execution_count": 16,
   "metadata": {},
   "outputs": [
    {
     "name": "stdout",
     "output_type": "stream",
     "text": [
      "My ID is: default and the result of myMultiplication is: 6\n"
     ]
    }
   ],
   "source": [
    "myMultiplication()"
   ]
  },
  {
   "cell_type": "code",
   "execution_count": 17,
   "metadata": {},
   "outputs": [],
   "source": [
    "# Calling function with my student ID (dh181812):"
   ]
  },
  {
   "cell_type": "code",
   "execution_count": 18,
   "metadata": {},
   "outputs": [
    {
     "name": "stdout",
     "output_type": "stream",
     "text": [
      "My ID is: 181812 and the result of myMultiplication is: 2\n"
     ]
    }
   ],
   "source": [
    "myMultiplication (1, 2, 181812)"
   ]
  },
  {
   "cell_type": "markdown",
   "metadata": {},
   "source": [
    "# Part 2: NumPy and Pandas\n",
    "\n",
    "A good overview to repeat from our class the concepts is in the [Data Science Foundations: Python Scientific Stack](https://www.linkedin.com/learning/data-science-foundations-python-scientific-stack/what-you-should-know) online course on the LinkedIn Learning Platform. Watch chapter 3 - NumPy Basics (duration approx. 27min).\n",
    "\n",
    "To start with numpy we need to import the numpy package. Execute the following lines also in your notebook by pressing shift+enter in the following code line:"
   ]
  },
  {
   "cell_type": "code",
   "execution_count": 19,
   "metadata": {},
   "outputs": [],
   "source": [
    "import numpy as np\n",
    "np.random.seed(0) # we also reset the random number generator, so that everyone of us gets the same random numbers in this exercise"
   ]
  },
  {
   "cell_type": "markdown",
   "metadata": {},
   "source": [
    "## Exercise 2.1: NumPy Arrays\n",
    "\n",
    "Create following numpy array: \n",
    "\n",
    "$$ arr1 = \n",
    " \\begin{pmatrix}\n",
    "  1 & 0 & 1 & 0 & 1 & 0 & 1 & 0 & 1 & 0\n",
    " \\end{pmatrix} $$\n",
    "\n",
    "Create also a numpy array 'arr2' with 10 random elements in one line (not one column!). Execute following lines of code and interpret the results in a seperate Markdown cell:\n",
    "* print the values of the elements of both arrays\n",
    "* add the two arrays to each other\n",
    "* multiply the two arrays elementwise\n",
    "* calculate the dot product of the two arrays"
   ]
  },
  {
   "cell_type": "code",
   "execution_count": 20,
   "metadata": {},
   "outputs": [],
   "source": [
    "# creating both arrays"
   ]
  },
  {
   "cell_type": "code",
   "execution_count": 21,
   "metadata": {},
   "outputs": [
    {
     "data": {
      "text/plain": [
       "array([1, 0, 1, 0, 1, 0, 1, 0, 1, 0])"
      ]
     },
     "execution_count": 21,
     "metadata": {},
     "output_type": "execute_result"
    }
   ],
   "source": [
    "arr1 = np.array([1, 0, 1, 0, 1, 0, 1, 0, 1, 0])\n",
    "arr1"
   ]
  },
  {
   "cell_type": "code",
   "execution_count": 22,
   "metadata": {},
   "outputs": [
    {
     "data": {
      "text/plain": [
       "array([0.5488135 , 0.71518937, 0.60276338, 0.54488318, 0.4236548 ,\n",
       "       0.64589411, 0.43758721, 0.891773  , 0.96366276, 0.38344152])"
      ]
     },
     "execution_count": 22,
     "metadata": {},
     "output_type": "execute_result"
    }
   ],
   "source": [
    "arr2 = np.random.rand(10)\n",
    "arr2"
   ]
  },
  {
   "cell_type": "code",
   "execution_count": 23,
   "metadata": {},
   "outputs": [],
   "source": [
    "# adding the two array to each other"
   ]
  },
  {
   "cell_type": "code",
   "execution_count": 24,
   "metadata": {},
   "outputs": [
    {
     "data": {
      "text/plain": [
       "array([1.5488135 , 0.71518937, 1.60276338, 0.54488318, 1.4236548 ,\n",
       "       0.64589411, 1.43758721, 0.891773  , 1.96366276, 0.38344152])"
      ]
     },
     "execution_count": 24,
     "metadata": {},
     "output_type": "execute_result"
    }
   ],
   "source": [
    "arrAdd = arr1 + arr2\n",
    "arrAdd"
   ]
  },
  {
   "cell_type": "code",
   "execution_count": 25,
   "metadata": {},
   "outputs": [],
   "source": [
    "# multiplying the two arrays elementwise"
   ]
  },
  {
   "cell_type": "code",
   "execution_count": 26,
   "metadata": {},
   "outputs": [
    {
     "data": {
      "text/plain": [
       "array([0.5488135 , 0.        , 0.60276338, 0.        , 0.4236548 ,\n",
       "       0.        , 0.43758721, 0.        , 0.96366276, 0.        ])"
      ]
     },
     "execution_count": 26,
     "metadata": {},
     "output_type": "execute_result"
    }
   ],
   "source": [
    "arrMultiply = arr1 * arr2\n",
    "arrMultiply"
   ]
  },
  {
   "cell_type": "code",
   "execution_count": 27,
   "metadata": {},
   "outputs": [],
   "source": [
    "# dot product of the two arrays"
   ]
  },
  {
   "cell_type": "code",
   "execution_count": 28,
   "metadata": {},
   "outputs": [
    {
     "data": {
      "text/plain": [
       "2.976481651101595"
      ]
     },
     "execution_count": 28,
     "metadata": {},
     "output_type": "execute_result"
    }
   ],
   "source": [
    "arrDot = np.dot(arr1, arr2)\n",
    "arrDot"
   ]
  },
  {
   "cell_type": "markdown",
   "metadata": {},
   "source": [
    "## Exercise 2.2: Boolean Selection\n",
    "\n",
    "Create following numpy arrays: \n",
    "$$ arr3 = \n",
    " \\begin{pmatrix}\n",
    "  1 & 2 & 3 & 4 & 5 & 6 & 7 & 8 & 9 & 10\n",
    " \\end{pmatrix} $$\n",
    " \n",
    "$$ arr4 = \n",
    " \\begin{pmatrix}\n",
    "  3 & 1 & 5 & 6 & 8 & 2 & 9 & 4 & 7 & 0\n",
    " \\end{pmatrix} $$\n",
    "\n",
    "(Hint: for 'arr3' use the numpy function 'arange')\n",
    "\n",
    "Execute following lines of code and interpret the results in a seperate Markdown cell:\n",
    "* (arr3 > 3) & (arr3 < 8)\t\n",
    "* arr3[arr3 > 5]\t\n",
    "* arr3[(arr3 < 2) | (arr3 >= 8)]\n",
    "* arr3[arr4 < 5]\n"
   ]
  },
  {
   "cell_type": "code",
   "execution_count": 29,
   "metadata": {},
   "outputs": [],
   "source": [
    "# creating arrays"
   ]
  },
  {
   "cell_type": "code",
   "execution_count": 30,
   "metadata": {},
   "outputs": [
    {
     "data": {
      "text/plain": [
       "array([ 1,  2,  3,  4,  5,  6,  7,  8,  9, 10])"
      ]
     },
     "execution_count": 30,
     "metadata": {},
     "output_type": "execute_result"
    }
   ],
   "source": [
    "arr3 = np.arange(1, 11)\n",
    "arr3"
   ]
  },
  {
   "cell_type": "code",
   "execution_count": 31,
   "metadata": {},
   "outputs": [
    {
     "data": {
      "text/plain": [
       "array([3, 1, 5, 6, 8, 2, 9, 4, 7, 0])"
      ]
     },
     "execution_count": 31,
     "metadata": {},
     "output_type": "execute_result"
    }
   ],
   "source": [
    "arr4 = np.array([3, 1, 5, 6, 8, 2, 9, 4, 7, 0])\n",
    "arr4"
   ]
  },
  {
   "cell_type": "code",
   "execution_count": 32,
   "metadata": {},
   "outputs": [],
   "source": [
    "# boolean selection of all values in arr3 which are greater than 3 and smaller than 8"
   ]
  },
  {
   "cell_type": "code",
   "execution_count": 33,
   "metadata": {},
   "outputs": [
    {
     "data": {
      "text/plain": [
       "array([False, False, False,  True,  True,  True,  True, False, False,\n",
       "       False])"
      ]
     },
     "execution_count": 33,
     "metadata": {},
     "output_type": "execute_result"
    }
   ],
   "source": [
    "(arr3 > 3) & (arr3 < 8)"
   ]
  },
  {
   "cell_type": "code",
   "execution_count": 34,
   "metadata": {},
   "outputs": [],
   "source": [
    "# prints all values of arr3 which are greater than 5"
   ]
  },
  {
   "cell_type": "code",
   "execution_count": 35,
   "metadata": {},
   "outputs": [
    {
     "data": {
      "text/plain": [
       "array([ 6,  7,  8,  9, 10])"
      ]
     },
     "execution_count": 35,
     "metadata": {},
     "output_type": "execute_result"
    }
   ],
   "source": [
    "arr3[arr3 > 5]"
   ]
  },
  {
   "cell_type": "code",
   "execution_count": 36,
   "metadata": {},
   "outputs": [],
   "source": [
    "# prints all values of arr 3 which are smaller than 2 or greater than and equal 8 "
   ]
  },
  {
   "cell_type": "code",
   "execution_count": 37,
   "metadata": {},
   "outputs": [
    {
     "data": {
      "text/plain": [
       "array([ 1,  8,  9, 10])"
      ]
     },
     "execution_count": 37,
     "metadata": {},
     "output_type": "execute_result"
    }
   ],
   "source": [
    "arr3[(arr3 < 2) | (arr3 >= 8)]"
   ]
  },
  {
   "cell_type": "code",
   "execution_count": 38,
   "metadata": {},
   "outputs": [],
   "source": [
    "# prints the values of arr3 which have the positions in arr4 which values are smaller than 5"
   ]
  },
  {
   "cell_type": "code",
   "execution_count": 39,
   "metadata": {},
   "outputs": [
    {
     "data": {
      "text/plain": [
       "array([ 1,  2,  6,  8, 10])"
      ]
     },
     "execution_count": 39,
     "metadata": {},
     "output_type": "execute_result"
    }
   ],
   "source": [
    "arr3[arr4 < 5]"
   ]
  },
  {
   "cell_type": "markdown",
   "metadata": {},
   "source": [
    "## Exercise 2.3\n",
    "\n",
    "Create following numpy array: \n",
    "$$ arr5 = \n",
    " \\begin{pmatrix}\n",
    "  3 & 15 & 9 & 12 & -1 & 0 & -12 & 9 & 6 & 1\n",
    " \\end{pmatrix} $$\n",
    "\n",
    "Implement following tasks:\n",
    "* print the elements of 'arr5', which are positive or equal to zero \n",
    "* all elements of 'arr5' which are multiples of three should be replaced by the number 3 (Hint: make a copy of arr5 into a new arr6 by using the function np.copy(). Next, use the function np.remainder on arr6 to identify elements which are multiples of 3, i.e. the remainder of such a number divided by 3 is zero. Finally, set all values with remainder of zero to 3)\n",
    "* multiply all elements of 'arr5' which are even numbers with 5 (Hint: you can use the modulo operator \"%\" for this)\n",
    "* set all elements of 'arr5' which are smaller than the median of 'arr5' to 0"
   ]
  },
  {
   "cell_type": "code",
   "execution_count": 40,
   "metadata": {},
   "outputs": [],
   "source": [
    "# creating array"
   ]
  },
  {
   "cell_type": "code",
   "execution_count": 41,
   "metadata": {},
   "outputs": [
    {
     "data": {
      "text/plain": [
       "array([  3,  15,   9,  12,  -1,   0, -12,   9,   6,   1])"
      ]
     },
     "execution_count": 41,
     "metadata": {},
     "output_type": "execute_result"
    }
   ],
   "source": [
    "arr5 = np.array([3, 15, 9, 12, -1, 0, -12, 9, 6, 1])\n",
    "arr5"
   ]
  },
  {
   "cell_type": "code",
   "execution_count": 42,
   "metadata": {},
   "outputs": [],
   "source": [
    "# prints all elements which of arr5 which are positive or equal to zero"
   ]
  },
  {
   "cell_type": "code",
   "execution_count": 43,
   "metadata": {},
   "outputs": [
    {
     "data": {
      "text/plain": [
       "array([ 3, 15,  9, 12,  0,  9,  6,  1])"
      ]
     },
     "execution_count": 43,
     "metadata": {},
     "output_type": "execute_result"
    }
   ],
   "source": [
    "arr5[(arr5 > 0) | (arr5 == 0)]"
   ]
  },
  {
   "cell_type": "code",
   "execution_count": 44,
   "metadata": {},
   "outputs": [],
   "source": [
    "# replaces all elements of arr6 which are multiples of 3 by the number 3"
   ]
  },
  {
   "cell_type": "code",
   "execution_count": 45,
   "metadata": {},
   "outputs": [
    {
     "data": {
      "text/plain": [
       "array([  3,  15,   9,  12,  -1,   0, -12,   9,   6,   1])"
      ]
     },
     "execution_count": 45,
     "metadata": {},
     "output_type": "execute_result"
    }
   ],
   "source": [
    "arr6 = np.copy(arr5)\n",
    "arr6"
   ]
  },
  {
   "cell_type": "code",
   "execution_count": 46,
   "metadata": {},
   "outputs": [
    {
     "data": {
      "text/plain": [
       "array([0, 0, 0, 0, 2, 0, 0, 0, 0, 1], dtype=int32)"
      ]
     },
     "execution_count": 46,
     "metadata": {},
     "output_type": "execute_result"
    }
   ],
   "source": [
    "arr6 = np.remainder(arr6, 3)\n",
    "arr6"
   ]
  },
  {
   "cell_type": "code",
   "execution_count": 47,
   "metadata": {},
   "outputs": [
    {
     "data": {
      "text/plain": [
       "array([3, 3, 3, 3, 2, 3, 3, 3, 3, 1], dtype=int32)"
      ]
     },
     "execution_count": 47,
     "metadata": {},
     "output_type": "execute_result"
    }
   ],
   "source": [
    "arr6[arr6 == 0] = 3\n",
    "arr6"
   ]
  },
  {
   "cell_type": "code",
   "execution_count": 48,
   "metadata": {},
   "outputs": [],
   "source": [
    "# multiplies all elements of arr5 which are even numbers with 5"
   ]
  },
  {
   "cell_type": "code",
   "execution_count": 49,
   "metadata": {},
   "outputs": [
    {
     "data": {
      "text/plain": [
       "array([  3,  15,   9,  60,  -1,   0, -60,   9,  30,   1])"
      ]
     },
     "execution_count": 49,
     "metadata": {},
     "output_type": "execute_result"
    }
   ],
   "source": [
    "arr5[arr5 % 2 == 0] *= 5\n",
    "arr5"
   ]
  },
  {
   "cell_type": "code",
   "execution_count": 50,
   "metadata": {},
   "outputs": [],
   "source": [
    "# setting all elements of arr5 which are smaller than the median of arr5 to 0"
   ]
  },
  {
   "cell_type": "code",
   "execution_count": 51,
   "metadata": {},
   "outputs": [
    {
     "data": {
      "text/plain": [
       "array([ 0, 15,  9, 60,  0,  0,  0,  9, 30,  0])"
      ]
     },
     "execution_count": 51,
     "metadata": {},
     "output_type": "execute_result"
    }
   ],
   "source": [
    "arr5[arr5 < np.median(arr5)] = 0\n",
    "arr5"
   ]
  },
  {
   "cell_type": "markdown",
   "metadata": {},
   "source": [
    "## Exercise 2.4: Matrix Access & Shape\n",
    "\n",
    "Create following numpy matrix: \n",
    "$$ A = \n",
    " \\begin{pmatrix}\n",
    "  2 & 4 & 2 & 6 \\\\\n",
    "  1 & 3 & 2 & 8 \\\\\n",
    "  9  & 3  & 5 & 7 \n",
    " \\end{pmatrix} $$\n",
    "\n",
    "Execute following lines of code and interpret the results in a seperate Markdown cell\n",
    "* A.transpose()\n",
    "* A.T\n",
    "* A.shape\n",
    "* print(A[1:,:1])\n",
    "* print(A[[1,2], :])\n",
    "* print(A[:, [2,0]])\n",
    "* print(np.reshape(A,[2, 6]))\n",
    "* print(np.reshape(A,[6, 2]))\n",
    "* print(np.reshape(A,[6, 3]))\n",
    "* np.flipud(A)\n",
    "* np.fliplr(A)"
   ]
  },
  {
   "cell_type": "code",
   "execution_count": 52,
   "metadata": {},
   "outputs": [],
   "source": [
    "# creating matrix"
   ]
  },
  {
   "cell_type": "code",
   "execution_count": 53,
   "metadata": {},
   "outputs": [
    {
     "data": {
      "text/plain": [
       "array([[2, 4, 2, 6],\n",
       "       [1, 3, 2, 8],\n",
       "       [9, 3, 5, 7]])"
      ]
     },
     "execution_count": 53,
     "metadata": {},
     "output_type": "execute_result"
    }
   ],
   "source": [
    "A = np.array([[2, 4, 2, 6], [1, 3, 2, 8], [9, 3, 5, 7]])\n",
    "A"
   ]
  },
  {
   "cell_type": "code",
   "execution_count": 54,
   "metadata": {},
   "outputs": [],
   "source": [
    "# changes the dimensions of the matrix from 3 x 4 to 4 x 3"
   ]
  },
  {
   "cell_type": "code",
   "execution_count": 55,
   "metadata": {},
   "outputs": [
    {
     "data": {
      "text/plain": [
       "array([[2, 1, 9],\n",
       "       [4, 3, 3],\n",
       "       [2, 2, 5],\n",
       "       [6, 8, 7]])"
      ]
     },
     "execution_count": 55,
     "metadata": {},
     "output_type": "execute_result"
    }
   ],
   "source": [
    "A.transpose()"
   ]
  },
  {
   "cell_type": "code",
   "execution_count": 56,
   "metadata": {},
   "outputs": [],
   "source": [
    "# short version for .transpose(), changes the dimension of the matrix from 3 x 4 to 4 x 3"
   ]
  },
  {
   "cell_type": "code",
   "execution_count": 57,
   "metadata": {},
   "outputs": [
    {
     "data": {
      "text/plain": [
       "array([[2, 1, 9],\n",
       "       [4, 3, 3],\n",
       "       [2, 2, 5],\n",
       "       [6, 8, 7]])"
      ]
     },
     "execution_count": 57,
     "metadata": {},
     "output_type": "execute_result"
    }
   ],
   "source": [
    "A.T"
   ]
  },
  {
   "cell_type": "code",
   "execution_count": 58,
   "metadata": {},
   "outputs": [],
   "source": [
    "# prints the dimensions of the matrix"
   ]
  },
  {
   "cell_type": "code",
   "execution_count": 59,
   "metadata": {},
   "outputs": [
    {
     "data": {
      "text/plain": [
       "(3, 4)"
      ]
     },
     "execution_count": 59,
     "metadata": {},
     "output_type": "execute_result"
    }
   ],
   "source": [
    "A.shape"
   ]
  },
  {
   "cell_type": "code",
   "execution_count": 60,
   "metadata": {},
   "outputs": [],
   "source": [
    "# prints the values of the first row of the second and third column"
   ]
  },
  {
   "cell_type": "code",
   "execution_count": 61,
   "metadata": {},
   "outputs": [
    {
     "name": "stdout",
     "output_type": "stream",
     "text": [
      "[[1]\n",
      " [9]]\n"
     ]
    }
   ],
   "source": [
    "print(A[1:,:1])"
   ]
  },
  {
   "cell_type": "code",
   "execution_count": 62,
   "metadata": {},
   "outputs": [],
   "source": [
    "# prints the values of the second and third row of all colums"
   ]
  },
  {
   "cell_type": "code",
   "execution_count": 63,
   "metadata": {},
   "outputs": [
    {
     "name": "stdout",
     "output_type": "stream",
     "text": [
      "[[1 3 2 8]\n",
      " [9 3 5 7]]\n"
     ]
    }
   ],
   "source": [
    "print(A[[1,2], :])"
   ]
  },
  {
   "cell_type": "code",
   "execution_count": 64,
   "metadata": {},
   "outputs": [],
   "source": [
    "# prints the values of the third and the first column of all rows"
   ]
  },
  {
   "cell_type": "code",
   "execution_count": 65,
   "metadata": {},
   "outputs": [
    {
     "name": "stdout",
     "output_type": "stream",
     "text": [
      "[[2 2]\n",
      " [2 1]\n",
      " [5 9]]\n"
     ]
    }
   ],
   "source": [
    "print(A[:, [2,0]])"
   ]
  },
  {
   "cell_type": "code",
   "execution_count": 66,
   "metadata": {},
   "outputs": [],
   "source": [
    "# prints the matrix with reshaped dimensions of 2 x 6"
   ]
  },
  {
   "cell_type": "code",
   "execution_count": 67,
   "metadata": {},
   "outputs": [
    {
     "name": "stdout",
     "output_type": "stream",
     "text": [
      "[[2 4 2 6 1 3]\n",
      " [2 8 9 3 5 7]]\n"
     ]
    }
   ],
   "source": [
    "print(np.reshape(A,[2, 6]))"
   ]
  },
  {
   "cell_type": "code",
   "execution_count": 68,
   "metadata": {},
   "outputs": [],
   "source": [
    "# prints the matrix with reshaped dimensions of 6 x 2"
   ]
  },
  {
   "cell_type": "code",
   "execution_count": 69,
   "metadata": {},
   "outputs": [
    {
     "name": "stdout",
     "output_type": "stream",
     "text": [
      "[[2 4]\n",
      " [2 6]\n",
      " [1 3]\n",
      " [2 8]\n",
      " [9 3]\n",
      " [5 7]]\n"
     ]
    }
   ],
   "source": [
    "print(np.reshape(A,[6, 2]))"
   ]
  },
  {
   "cell_type": "code",
   "execution_count": 70,
   "metadata": {},
   "outputs": [],
   "source": [
    "# prints the matrix with reshaped dimensions of 6 x 3 - NOT POSSIBLE\n",
    "\n",
    "# print(np.reshape(A,[6, 3])) - Creates Error because there are to less values to reshape the matrix\n",
    "# 18 values are needed to use this method"
   ]
  },
  {
   "cell_type": "code",
   "execution_count": 71,
   "metadata": {},
   "outputs": [],
   "source": [
    "# flips the values of each column in the up/down direction"
   ]
  },
  {
   "cell_type": "code",
   "execution_count": 72,
   "metadata": {},
   "outputs": [
    {
     "data": {
      "text/plain": [
       "array([[9, 3, 5, 7],\n",
       "       [1, 3, 2, 8],\n",
       "       [2, 4, 2, 6]])"
      ]
     },
     "execution_count": 72,
     "metadata": {},
     "output_type": "execute_result"
    }
   ],
   "source": [
    "np.flipud(A)"
   ]
  },
  {
   "cell_type": "code",
   "execution_count": 73,
   "metadata": {},
   "outputs": [],
   "source": [
    "# flips the values of each row in the left/right direction"
   ]
  },
  {
   "cell_type": "code",
   "execution_count": 74,
   "metadata": {},
   "outputs": [
    {
     "data": {
      "text/plain": [
       "array([[6, 2, 4, 2],\n",
       "       [8, 2, 3, 1],\n",
       "       [7, 5, 3, 9]])"
      ]
     },
     "execution_count": 74,
     "metadata": {},
     "output_type": "execute_result"
    }
   ],
   "source": [
    "np.fliplr(A)"
   ]
  },
  {
   "cell_type": "markdown",
   "metadata": {},
   "source": [
    "# Part 3: Pandas\n",
    "\n",
    "## Exercise 3.1: Series\n",
    "\n",
    "* Import the pandas library and access it via pd.\n",
    "* Created a series called P with 8 random numbers and create a row index with names 'Patient 1', 'Patient 2', ...\n",
    "* Now, print the data of the 'Patient 5' and print the data by accessing row 5.\n",
    "* Explain the difference."
   ]
  },
  {
   "cell_type": "code",
   "execution_count": 75,
   "metadata": {},
   "outputs": [],
   "source": [
    "# import pandas library"
   ]
  },
  {
   "cell_type": "code",
   "execution_count": 76,
   "metadata": {},
   "outputs": [],
   "source": [
    "import pandas as pd"
   ]
  },
  {
   "cell_type": "code",
   "execution_count": 77,
   "metadata": {},
   "outputs": [],
   "source": [
    "# creating serias with 8 random numbers and index"
   ]
  },
  {
   "cell_type": "code",
   "execution_count": 78,
   "metadata": {},
   "outputs": [
    {
     "data": {
      "text/plain": [
       "Patient 1    0.791725\n",
       "Patient 2    0.528895\n",
       "Patient 3    0.568045\n",
       "Patient 4    0.925597\n",
       "Patient 5    0.071036\n",
       "Patient 6    0.087129\n",
       "Patient 7    0.020218\n",
       "Patient 8    0.832620\n",
       "dtype: float64"
      ]
     },
     "execution_count": 78,
     "metadata": {},
     "output_type": "execute_result"
    }
   ],
   "source": [
    "P = pd.Series(np.random.rand(8), index=[\"Patient 1\", \"Patient 2\", \"Patient 3\",\n",
    "                                        \"Patient 4\", \"Patient 5\", \"Patient 6\", \n",
    "                                        \"Patient 7\", \"Patient 8\"])\n",
    "P"
   ]
  },
  {
   "cell_type": "code",
   "execution_count": 79,
   "metadata": {},
   "outputs": [],
   "source": [
    "# print data of index \"Patient 5\" = row 4"
   ]
  },
  {
   "cell_type": "code",
   "execution_count": 80,
   "metadata": {},
   "outputs": [
    {
     "data": {
      "text/plain": [
       "0.07103605819788694"
      ]
     },
     "execution_count": 80,
     "metadata": {},
     "output_type": "execute_result"
    }
   ],
   "source": [
    "P[\"Patient 5\"]"
   ]
  },
  {
   "cell_type": "code",
   "execution_count": 81,
   "metadata": {},
   "outputs": [],
   "source": [
    "# print data of row 5"
   ]
  },
  {
   "cell_type": "code",
   "execution_count": 82,
   "metadata": {},
   "outputs": [
    {
     "data": {
      "text/plain": [
       "0.08712929970154071"
      ]
     },
     "execution_count": 82,
     "metadata": {},
     "output_type": "execute_result"
    }
   ],
   "source": [
    "P[5]"
   ]
  },
  {
   "cell_type": "code",
   "execution_count": 83,
   "metadata": {},
   "outputs": [],
   "source": [
    "# The difference between these two ways of accessing data is that Python begins counting at 0.\n",
    "# In this example accessing \"row 5\" it means accessing data in the row 6 of the series."
   ]
  },
  {
   "cell_type": "markdown",
   "metadata": {},
   "source": [
    "## Exercise 3.2: DataFrame\n",
    "\n",
    "* Create a DataFrame called \"patients\" with 12 random integer numbers and reshape it to a matrix with 4 rows and 3 columns.\n",
    "* Give the columns the index names of \"Patient name\", \"Blood Pressure\", \"Weight\".\n",
    "* Print the list of all patients (hint: use the loc function, return all rows (:) and only the specified column with the right name)\n",
    "* Replace the random values in the first row with actual patient names: \"Andreas\", \"Jakob\", \"Mario\" and \"Romana\". Use only a single statement, don't use four assignment statements.\n",
    "* Print only the patient names and weight of all patients.\n",
    "* Use the set_index method to set the 'Patient name' column as an index (see [Documentation](https://pandas.pydata.org/pandas-docs/stable/reference/api/pandas.DataFrame.set_index.html)). Note - reassign the returned results to patients to apply the change. Check by outputting patients - the names should then be printed in bold."
   ]
  },
  {
   "cell_type": "code",
   "execution_count": 84,
   "metadata": {},
   "outputs": [],
   "source": [
    "# creating dataframe + column index"
   ]
  },
  {
   "cell_type": "code",
   "execution_count": 85,
   "metadata": {},
   "outputs": [
    {
     "data": {
      "text/html": [
       "<div>\n",
       "<style scoped>\n",
       "    .dataframe tbody tr th:only-of-type {\n",
       "        vertical-align: middle;\n",
       "    }\n",
       "\n",
       "    .dataframe tbody tr th {\n",
       "        vertical-align: top;\n",
       "    }\n",
       "\n",
       "    .dataframe thead th {\n",
       "        text-align: right;\n",
       "    }\n",
       "</style>\n",
       "<table border=\"1\" class=\"dataframe\">\n",
       "  <thead>\n",
       "    <tr style=\"text-align: right;\">\n",
       "      <th></th>\n",
       "      <th>Patient name</th>\n",
       "      <th>Blood Pressure</th>\n",
       "      <th>Weight</th>\n",
       "    </tr>\n",
       "  </thead>\n",
       "  <tbody>\n",
       "    <tr>\n",
       "      <th>0</th>\n",
       "      <td>0.778157</td>\n",
       "      <td>0.870012</td>\n",
       "      <td>0.978618</td>\n",
       "    </tr>\n",
       "    <tr>\n",
       "      <th>1</th>\n",
       "      <td>0.799159</td>\n",
       "      <td>0.461479</td>\n",
       "      <td>0.780529</td>\n",
       "    </tr>\n",
       "    <tr>\n",
       "      <th>2</th>\n",
       "      <td>0.118274</td>\n",
       "      <td>0.639921</td>\n",
       "      <td>0.143353</td>\n",
       "    </tr>\n",
       "    <tr>\n",
       "      <th>3</th>\n",
       "      <td>0.944669</td>\n",
       "      <td>0.521848</td>\n",
       "      <td>0.414662</td>\n",
       "    </tr>\n",
       "  </tbody>\n",
       "</table>\n",
       "</div>"
      ],
      "text/plain": [
       "   Patient name  Blood Pressure    Weight\n",
       "0      0.778157        0.870012  0.978618\n",
       "1      0.799159        0.461479  0.780529\n",
       "2      0.118274        0.639921  0.143353\n",
       "3      0.944669        0.521848  0.414662"
      ]
     },
     "execution_count": 85,
     "metadata": {},
     "output_type": "execute_result"
    }
   ],
   "source": [
    "patients = pd.DataFrame(np.random.rand(12).reshape(4, 3),\n",
    "                      columns=[\"Patient name\", \"Blood Pressure\", \"Weight\"])\n",
    "patients"
   ]
  },
  {
   "cell_type": "code",
   "execution_count": 86,
   "metadata": {},
   "outputs": [],
   "source": [
    "# print list of all patients"
   ]
  },
  {
   "cell_type": "code",
   "execution_count": 87,
   "metadata": {},
   "outputs": [
    {
     "data": {
      "text/plain": [
       "0    0.778157\n",
       "1    0.799159\n",
       "2    0.118274\n",
       "3    0.944669\n",
       "Name: Patient name, dtype: float64"
      ]
     },
     "execution_count": 87,
     "metadata": {},
     "output_type": "execute_result"
    }
   ],
   "source": [
    "patients.loc[:, \"Patient name\"]"
   ]
  },
  {
   "cell_type": "code",
   "execution_count": 88,
   "metadata": {},
   "outputs": [],
   "source": [
    "# replace random numbers with names"
   ]
  },
  {
   "cell_type": "code",
   "execution_count": 89,
   "metadata": {},
   "outputs": [
    {
     "data": {
      "text/html": [
       "<div>\n",
       "<style scoped>\n",
       "    .dataframe tbody tr th:only-of-type {\n",
       "        vertical-align: middle;\n",
       "    }\n",
       "\n",
       "    .dataframe tbody tr th {\n",
       "        vertical-align: top;\n",
       "    }\n",
       "\n",
       "    .dataframe thead th {\n",
       "        text-align: right;\n",
       "    }\n",
       "</style>\n",
       "<table border=\"1\" class=\"dataframe\">\n",
       "  <thead>\n",
       "    <tr style=\"text-align: right;\">\n",
       "      <th></th>\n",
       "      <th>Patient name</th>\n",
       "      <th>Blood Pressure</th>\n",
       "      <th>Weight</th>\n",
       "    </tr>\n",
       "  </thead>\n",
       "  <tbody>\n",
       "    <tr>\n",
       "      <th>0</th>\n",
       "      <td>Andreas</td>\n",
       "      <td>0.870012</td>\n",
       "      <td>0.978618</td>\n",
       "    </tr>\n",
       "    <tr>\n",
       "      <th>1</th>\n",
       "      <td>Jakob</td>\n",
       "      <td>0.461479</td>\n",
       "      <td>0.780529</td>\n",
       "    </tr>\n",
       "    <tr>\n",
       "      <th>2</th>\n",
       "      <td>Mario</td>\n",
       "      <td>0.639921</td>\n",
       "      <td>0.143353</td>\n",
       "    </tr>\n",
       "    <tr>\n",
       "      <th>3</th>\n",
       "      <td>Romana</td>\n",
       "      <td>0.521848</td>\n",
       "      <td>0.414662</td>\n",
       "    </tr>\n",
       "  </tbody>\n",
       "</table>\n",
       "</div>"
      ],
      "text/plain": [
       "  Patient name  Blood Pressure    Weight\n",
       "0      Andreas        0.870012  0.978618\n",
       "1        Jakob        0.461479  0.780529\n",
       "2        Mario        0.639921  0.143353\n",
       "3       Romana        0.521848  0.414662"
      ]
     },
     "execution_count": 89,
     "metadata": {},
     "output_type": "execute_result"
    }
   ],
   "source": [
    "patients.loc[:, \"Patient name\"] = [\"Andreas\", \"Jakob\", \"Mario\", \"Romana\"]\n",
    "patients"
   ]
  },
  {
   "cell_type": "code",
   "execution_count": 90,
   "metadata": {},
   "outputs": [],
   "source": [
    "# print patients with weight"
   ]
  },
  {
   "cell_type": "code",
   "execution_count": 91,
   "metadata": {},
   "outputs": [
    {
     "data": {
      "text/html": [
       "<div>\n",
       "<style scoped>\n",
       "    .dataframe tbody tr th:only-of-type {\n",
       "        vertical-align: middle;\n",
       "    }\n",
       "\n",
       "    .dataframe tbody tr th {\n",
       "        vertical-align: top;\n",
       "    }\n",
       "\n",
       "    .dataframe thead th {\n",
       "        text-align: right;\n",
       "    }\n",
       "</style>\n",
       "<table border=\"1\" class=\"dataframe\">\n",
       "  <thead>\n",
       "    <tr style=\"text-align: right;\">\n",
       "      <th></th>\n",
       "      <th>Patient name</th>\n",
       "      <th>Weight</th>\n",
       "    </tr>\n",
       "  </thead>\n",
       "  <tbody>\n",
       "    <tr>\n",
       "      <th>0</th>\n",
       "      <td>Andreas</td>\n",
       "      <td>0.978618</td>\n",
       "    </tr>\n",
       "    <tr>\n",
       "      <th>1</th>\n",
       "      <td>Jakob</td>\n",
       "      <td>0.780529</td>\n",
       "    </tr>\n",
       "    <tr>\n",
       "      <th>2</th>\n",
       "      <td>Mario</td>\n",
       "      <td>0.143353</td>\n",
       "    </tr>\n",
       "    <tr>\n",
       "      <th>3</th>\n",
       "      <td>Romana</td>\n",
       "      <td>0.414662</td>\n",
       "    </tr>\n",
       "  </tbody>\n",
       "</table>\n",
       "</div>"
      ],
      "text/plain": [
       "  Patient name    Weight\n",
       "0      Andreas  0.978618\n",
       "1        Jakob  0.780529\n",
       "2        Mario  0.143353\n",
       "3       Romana  0.414662"
      ]
     },
     "execution_count": 91,
     "metadata": {},
     "output_type": "execute_result"
    }
   ],
   "source": [
    "patients.loc[:, [\"Patient name\", \"Weight\"]]"
   ]
  },
  {
   "cell_type": "code",
   "execution_count": 92,
   "metadata": {},
   "outputs": [],
   "source": [
    "# set index to \"Patient name\""
   ]
  },
  {
   "cell_type": "code",
   "execution_count": 93,
   "metadata": {},
   "outputs": [
    {
     "data": {
      "text/html": [
       "<div>\n",
       "<style scoped>\n",
       "    .dataframe tbody tr th:only-of-type {\n",
       "        vertical-align: middle;\n",
       "    }\n",
       "\n",
       "    .dataframe tbody tr th {\n",
       "        vertical-align: top;\n",
       "    }\n",
       "\n",
       "    .dataframe thead th {\n",
       "        text-align: right;\n",
       "    }\n",
       "</style>\n",
       "<table border=\"1\" class=\"dataframe\">\n",
       "  <thead>\n",
       "    <tr style=\"text-align: right;\">\n",
       "      <th></th>\n",
       "      <th>Blood Pressure</th>\n",
       "      <th>Weight</th>\n",
       "    </tr>\n",
       "    <tr>\n",
       "      <th>Patient name</th>\n",
       "      <th></th>\n",
       "      <th></th>\n",
       "    </tr>\n",
       "  </thead>\n",
       "  <tbody>\n",
       "    <tr>\n",
       "      <th>Andreas</th>\n",
       "      <td>0.870012</td>\n",
       "      <td>0.978618</td>\n",
       "    </tr>\n",
       "    <tr>\n",
       "      <th>Jakob</th>\n",
       "      <td>0.461479</td>\n",
       "      <td>0.780529</td>\n",
       "    </tr>\n",
       "    <tr>\n",
       "      <th>Mario</th>\n",
       "      <td>0.639921</td>\n",
       "      <td>0.143353</td>\n",
       "    </tr>\n",
       "    <tr>\n",
       "      <th>Romana</th>\n",
       "      <td>0.521848</td>\n",
       "      <td>0.414662</td>\n",
       "    </tr>\n",
       "  </tbody>\n",
       "</table>\n",
       "</div>"
      ],
      "text/plain": [
       "              Blood Pressure    Weight\n",
       "Patient name                          \n",
       "Andreas             0.870012  0.978618\n",
       "Jakob               0.461479  0.780529\n",
       "Mario               0.639921  0.143353\n",
       "Romana              0.521848  0.414662"
      ]
     },
     "execution_count": 93,
     "metadata": {},
     "output_type": "execute_result"
    }
   ],
   "source": [
    "patients.set_index(\"Patient name\")"
   ]
  },
  {
   "cell_type": "markdown",
   "metadata": {},
   "source": [
    "## Exercise 3.3: Concatenation\n",
    "\n",
    "* Create a second DataFrame called \"newPatients\" with random intengers and this time 2 rows and 4 columns. Name the columns \"Patient name\", \"Blood Pressure\", \"Weight\", \"Height\" - our new fictional software has an additional metric it saves about our patients. Like before, give the patients names. Set the index to the patient names. Print the newPatients DataFrame.\n",
    "* Use concatenation to create a new DataFrame called \"completePatients\". Add the \"newPatients\" below the \"patients\". Show the contents to see the extended list of patients. You should see NaN in the height of the 'old' patients.\n",
    "* Try to fill in the missing values using the 'ffill' method. It doesn't fill the NaN values. Explain in a comment why it doesn't work in this case.\n",
    "* Calculate the mean of the patient height from the completePatients DataFrame. Use this vallue to fill the height of the 'old' patients with the average height of all patients."
   ]
  },
  {
   "cell_type": "code",
   "execution_count": 94,
   "metadata": {},
   "outputs": [],
   "source": [
    "# create dataframe + index"
   ]
  },
  {
   "cell_type": "code",
   "execution_count": 95,
   "metadata": {},
   "outputs": [
    {
     "data": {
      "text/html": [
       "<div>\n",
       "<style scoped>\n",
       "    .dataframe tbody tr th:only-of-type {\n",
       "        vertical-align: middle;\n",
       "    }\n",
       "\n",
       "    .dataframe tbody tr th {\n",
       "        vertical-align: top;\n",
       "    }\n",
       "\n",
       "    .dataframe thead th {\n",
       "        text-align: right;\n",
       "    }\n",
       "</style>\n",
       "<table border=\"1\" class=\"dataframe\">\n",
       "  <thead>\n",
       "    <tr style=\"text-align: right;\">\n",
       "      <th></th>\n",
       "      <th>Patient name</th>\n",
       "      <th>Blood Pressure</th>\n",
       "      <th>Weight</th>\n",
       "      <th>Height</th>\n",
       "    </tr>\n",
       "  </thead>\n",
       "  <tbody>\n",
       "    <tr>\n",
       "      <th>0</th>\n",
       "      <td>0.264556</td>\n",
       "      <td>0.774234</td>\n",
       "      <td>0.456150</td>\n",
       "      <td>0.568434</td>\n",
       "    </tr>\n",
       "    <tr>\n",
       "      <th>1</th>\n",
       "      <td>0.018790</td>\n",
       "      <td>0.617635</td>\n",
       "      <td>0.612096</td>\n",
       "      <td>0.616934</td>\n",
       "    </tr>\n",
       "  </tbody>\n",
       "</table>\n",
       "</div>"
      ],
      "text/plain": [
       "   Patient name  Blood Pressure    Weight    Height\n",
       "0      0.264556        0.774234  0.456150  0.568434\n",
       "1      0.018790        0.617635  0.612096  0.616934"
      ]
     },
     "execution_count": 95,
     "metadata": {},
     "output_type": "execute_result"
    }
   ],
   "source": [
    "newPatients = pd.DataFrame(np.random.rand(8).reshape(2, 4),\n",
    "                          columns=[\"Patient name\", \"Blood Pressure\", \"Weight\", \"Height\"])\n",
    "newPatients"
   ]
  },
  {
   "cell_type": "code",
   "execution_count": 96,
   "metadata": {},
   "outputs": [],
   "source": [
    "# replace random numbers with patient names"
   ]
  },
  {
   "cell_type": "code",
   "execution_count": 97,
   "metadata": {},
   "outputs": [
    {
     "data": {
      "text/html": [
       "<div>\n",
       "<style scoped>\n",
       "    .dataframe tbody tr th:only-of-type {\n",
       "        vertical-align: middle;\n",
       "    }\n",
       "\n",
       "    .dataframe tbody tr th {\n",
       "        vertical-align: top;\n",
       "    }\n",
       "\n",
       "    .dataframe thead th {\n",
       "        text-align: right;\n",
       "    }\n",
       "</style>\n",
       "<table border=\"1\" class=\"dataframe\">\n",
       "  <thead>\n",
       "    <tr style=\"text-align: right;\">\n",
       "      <th></th>\n",
       "      <th>Patient name</th>\n",
       "      <th>Blood Pressure</th>\n",
       "      <th>Weight</th>\n",
       "      <th>Height</th>\n",
       "    </tr>\n",
       "  </thead>\n",
       "  <tbody>\n",
       "    <tr>\n",
       "      <th>0</th>\n",
       "      <td>Mathias</td>\n",
       "      <td>0.774234</td>\n",
       "      <td>0.456150</td>\n",
       "      <td>0.568434</td>\n",
       "    </tr>\n",
       "    <tr>\n",
       "      <th>1</th>\n",
       "      <td>Daniel</td>\n",
       "      <td>0.617635</td>\n",
       "      <td>0.612096</td>\n",
       "      <td>0.616934</td>\n",
       "    </tr>\n",
       "  </tbody>\n",
       "</table>\n",
       "</div>"
      ],
      "text/plain": [
       "  Patient name  Blood Pressure    Weight    Height\n",
       "0      Mathias        0.774234  0.456150  0.568434\n",
       "1       Daniel        0.617635  0.612096  0.616934"
      ]
     },
     "execution_count": 97,
     "metadata": {},
     "output_type": "execute_result"
    }
   ],
   "source": [
    "newPatients.loc[:, [\"Patient name\"]] = [\"Mathias\", \"Daniel\"]\n",
    "newPatients"
   ]
  },
  {
   "cell_type": "code",
   "execution_count": 98,
   "metadata": {},
   "outputs": [],
   "source": [
    "# set index to patient name"
   ]
  },
  {
   "cell_type": "code",
   "execution_count": 99,
   "metadata": {},
   "outputs": [
    {
     "data": {
      "text/html": [
       "<div>\n",
       "<style scoped>\n",
       "    .dataframe tbody tr th:only-of-type {\n",
       "        vertical-align: middle;\n",
       "    }\n",
       "\n",
       "    .dataframe tbody tr th {\n",
       "        vertical-align: top;\n",
       "    }\n",
       "\n",
       "    .dataframe thead th {\n",
       "        text-align: right;\n",
       "    }\n",
       "</style>\n",
       "<table border=\"1\" class=\"dataframe\">\n",
       "  <thead>\n",
       "    <tr style=\"text-align: right;\">\n",
       "      <th></th>\n",
       "      <th>Blood Pressure</th>\n",
       "      <th>Weight</th>\n",
       "      <th>Height</th>\n",
       "    </tr>\n",
       "    <tr>\n",
       "      <th>Patient name</th>\n",
       "      <th></th>\n",
       "      <th></th>\n",
       "      <th></th>\n",
       "    </tr>\n",
       "  </thead>\n",
       "  <tbody>\n",
       "    <tr>\n",
       "      <th>Mathias</th>\n",
       "      <td>0.774234</td>\n",
       "      <td>0.456150</td>\n",
       "      <td>0.568434</td>\n",
       "    </tr>\n",
       "    <tr>\n",
       "      <th>Daniel</th>\n",
       "      <td>0.617635</td>\n",
       "      <td>0.612096</td>\n",
       "      <td>0.616934</td>\n",
       "    </tr>\n",
       "  </tbody>\n",
       "</table>\n",
       "</div>"
      ],
      "text/plain": [
       "              Blood Pressure    Weight    Height\n",
       "Patient name                                    \n",
       "Mathias             0.774234  0.456150  0.568434\n",
       "Daniel              0.617635  0.612096  0.616934"
      ]
     },
     "execution_count": 99,
     "metadata": {},
     "output_type": "execute_result"
    }
   ],
   "source": [
    "newPatients.set_index(\"Patient name\")"
   ]
  },
  {
   "cell_type": "code",
   "execution_count": 100,
   "metadata": {},
   "outputs": [],
   "source": [
    "# creating dataframe completePatients with concentation"
   ]
  },
  {
   "cell_type": "code",
   "execution_count": 101,
   "metadata": {},
   "outputs": [
    {
     "data": {
      "text/html": [
       "<div>\n",
       "<style scoped>\n",
       "    .dataframe tbody tr th:only-of-type {\n",
       "        vertical-align: middle;\n",
       "    }\n",
       "\n",
       "    .dataframe tbody tr th {\n",
       "        vertical-align: top;\n",
       "    }\n",
       "\n",
       "    .dataframe thead th {\n",
       "        text-align: right;\n",
       "    }\n",
       "</style>\n",
       "<table border=\"1\" class=\"dataframe\">\n",
       "  <thead>\n",
       "    <tr style=\"text-align: right;\">\n",
       "      <th></th>\n",
       "      <th>Blood Pressure</th>\n",
       "      <th>Height</th>\n",
       "      <th>Patient name</th>\n",
       "      <th>Weight</th>\n",
       "    </tr>\n",
       "  </thead>\n",
       "  <tbody>\n",
       "    <tr>\n",
       "      <th>0</th>\n",
       "      <td>0.870012</td>\n",
       "      <td>NaN</td>\n",
       "      <td>Andreas</td>\n",
       "      <td>0.978618</td>\n",
       "    </tr>\n",
       "    <tr>\n",
       "      <th>1</th>\n",
       "      <td>0.461479</td>\n",
       "      <td>NaN</td>\n",
       "      <td>Jakob</td>\n",
       "      <td>0.780529</td>\n",
       "    </tr>\n",
       "    <tr>\n",
       "      <th>2</th>\n",
       "      <td>0.639921</td>\n",
       "      <td>NaN</td>\n",
       "      <td>Mario</td>\n",
       "      <td>0.143353</td>\n",
       "    </tr>\n",
       "    <tr>\n",
       "      <th>3</th>\n",
       "      <td>0.521848</td>\n",
       "      <td>NaN</td>\n",
       "      <td>Romana</td>\n",
       "      <td>0.414662</td>\n",
       "    </tr>\n",
       "    <tr>\n",
       "      <th>0</th>\n",
       "      <td>0.774234</td>\n",
       "      <td>0.568434</td>\n",
       "      <td>Mathias</td>\n",
       "      <td>0.456150</td>\n",
       "    </tr>\n",
       "    <tr>\n",
       "      <th>1</th>\n",
       "      <td>0.617635</td>\n",
       "      <td>0.616934</td>\n",
       "      <td>Daniel</td>\n",
       "      <td>0.612096</td>\n",
       "    </tr>\n",
       "  </tbody>\n",
       "</table>\n",
       "</div>"
      ],
      "text/plain": [
       "   Blood Pressure    Height Patient name    Weight\n",
       "0        0.870012       NaN      Andreas  0.978618\n",
       "1        0.461479       NaN        Jakob  0.780529\n",
       "2        0.639921       NaN        Mario  0.143353\n",
       "3        0.521848       NaN       Romana  0.414662\n",
       "0        0.774234  0.568434      Mathias  0.456150\n",
       "1        0.617635  0.616934       Daniel  0.612096"
      ]
     },
     "execution_count": 101,
     "metadata": {},
     "output_type": "execute_result"
    }
   ],
   "source": [
    "completePatients = pd.concat([patients, newPatients], sort=\"True\")\n",
    "completePatients"
   ]
  },
  {
   "cell_type": "code",
   "execution_count": 102,
   "metadata": {},
   "outputs": [],
   "source": [
    "# set index to patient name"
   ]
  },
  {
   "cell_type": "code",
   "execution_count": 103,
   "metadata": {},
   "outputs": [
    {
     "data": {
      "text/html": [
       "<div>\n",
       "<style scoped>\n",
       "    .dataframe tbody tr th:only-of-type {\n",
       "        vertical-align: middle;\n",
       "    }\n",
       "\n",
       "    .dataframe tbody tr th {\n",
       "        vertical-align: top;\n",
       "    }\n",
       "\n",
       "    .dataframe thead th {\n",
       "        text-align: right;\n",
       "    }\n",
       "</style>\n",
       "<table border=\"1\" class=\"dataframe\">\n",
       "  <thead>\n",
       "    <tr style=\"text-align: right;\">\n",
       "      <th></th>\n",
       "      <th>Blood Pressure</th>\n",
       "      <th>Height</th>\n",
       "      <th>Weight</th>\n",
       "    </tr>\n",
       "    <tr>\n",
       "      <th>Patient name</th>\n",
       "      <th></th>\n",
       "      <th></th>\n",
       "      <th></th>\n",
       "    </tr>\n",
       "  </thead>\n",
       "  <tbody>\n",
       "    <tr>\n",
       "      <th>Andreas</th>\n",
       "      <td>0.870012</td>\n",
       "      <td>NaN</td>\n",
       "      <td>0.978618</td>\n",
       "    </tr>\n",
       "    <tr>\n",
       "      <th>Jakob</th>\n",
       "      <td>0.461479</td>\n",
       "      <td>NaN</td>\n",
       "      <td>0.780529</td>\n",
       "    </tr>\n",
       "    <tr>\n",
       "      <th>Mario</th>\n",
       "      <td>0.639921</td>\n",
       "      <td>NaN</td>\n",
       "      <td>0.143353</td>\n",
       "    </tr>\n",
       "    <tr>\n",
       "      <th>Romana</th>\n",
       "      <td>0.521848</td>\n",
       "      <td>NaN</td>\n",
       "      <td>0.414662</td>\n",
       "    </tr>\n",
       "    <tr>\n",
       "      <th>Mathias</th>\n",
       "      <td>0.774234</td>\n",
       "      <td>0.568434</td>\n",
       "      <td>0.456150</td>\n",
       "    </tr>\n",
       "    <tr>\n",
       "      <th>Daniel</th>\n",
       "      <td>0.617635</td>\n",
       "      <td>0.616934</td>\n",
       "      <td>0.612096</td>\n",
       "    </tr>\n",
       "  </tbody>\n",
       "</table>\n",
       "</div>"
      ],
      "text/plain": [
       "              Blood Pressure    Height    Weight\n",
       "Patient name                                    \n",
       "Andreas             0.870012       NaN  0.978618\n",
       "Jakob               0.461479       NaN  0.780529\n",
       "Mario               0.639921       NaN  0.143353\n",
       "Romana              0.521848       NaN  0.414662\n",
       "Mathias             0.774234  0.568434  0.456150\n",
       "Daniel              0.617635  0.616934  0.612096"
      ]
     },
     "execution_count": 103,
     "metadata": {},
     "output_type": "execute_result"
    }
   ],
   "source": [
    "completePatients = completePatients.set_index(\"Patient name\")\n",
    "completePatients"
   ]
  },
  {
   "cell_type": "code",
   "execution_count": 104,
   "metadata": {},
   "outputs": [],
   "source": [
    "# filling NaN values with \"ffill\"-method\n",
    "# doesn't work with this dataframe because the \"ffill\"-method fills NaN-values with the values of the previous rows"
   ]
  },
  {
   "cell_type": "code",
   "execution_count": 105,
   "metadata": {},
   "outputs": [
    {
     "data": {
      "text/html": [
       "<div>\n",
       "<style scoped>\n",
       "    .dataframe tbody tr th:only-of-type {\n",
       "        vertical-align: middle;\n",
       "    }\n",
       "\n",
       "    .dataframe tbody tr th {\n",
       "        vertical-align: top;\n",
       "    }\n",
       "\n",
       "    .dataframe thead th {\n",
       "        text-align: right;\n",
       "    }\n",
       "</style>\n",
       "<table border=\"1\" class=\"dataframe\">\n",
       "  <thead>\n",
       "    <tr style=\"text-align: right;\">\n",
       "      <th></th>\n",
       "      <th>Blood Pressure</th>\n",
       "      <th>Height</th>\n",
       "      <th>Weight</th>\n",
       "    </tr>\n",
       "    <tr>\n",
       "      <th>Patient name</th>\n",
       "      <th></th>\n",
       "      <th></th>\n",
       "      <th></th>\n",
       "    </tr>\n",
       "  </thead>\n",
       "  <tbody>\n",
       "    <tr>\n",
       "      <th>Andreas</th>\n",
       "      <td>0.870012</td>\n",
       "      <td>NaN</td>\n",
       "      <td>0.978618</td>\n",
       "    </tr>\n",
       "    <tr>\n",
       "      <th>Jakob</th>\n",
       "      <td>0.461479</td>\n",
       "      <td>NaN</td>\n",
       "      <td>0.780529</td>\n",
       "    </tr>\n",
       "    <tr>\n",
       "      <th>Mario</th>\n",
       "      <td>0.639921</td>\n",
       "      <td>NaN</td>\n",
       "      <td>0.143353</td>\n",
       "    </tr>\n",
       "    <tr>\n",
       "      <th>Romana</th>\n",
       "      <td>0.521848</td>\n",
       "      <td>NaN</td>\n",
       "      <td>0.414662</td>\n",
       "    </tr>\n",
       "    <tr>\n",
       "      <th>Mathias</th>\n",
       "      <td>0.774234</td>\n",
       "      <td>0.568434</td>\n",
       "      <td>0.456150</td>\n",
       "    </tr>\n",
       "    <tr>\n",
       "      <th>Daniel</th>\n",
       "      <td>0.617635</td>\n",
       "      <td>0.616934</td>\n",
       "      <td>0.612096</td>\n",
       "    </tr>\n",
       "  </tbody>\n",
       "</table>\n",
       "</div>"
      ],
      "text/plain": [
       "              Blood Pressure    Height    Weight\n",
       "Patient name                                    \n",
       "Andreas             0.870012       NaN  0.978618\n",
       "Jakob               0.461479       NaN  0.780529\n",
       "Mario               0.639921       NaN  0.143353\n",
       "Romana              0.521848       NaN  0.414662\n",
       "Mathias             0.774234  0.568434  0.456150\n",
       "Daniel              0.617635  0.616934  0.612096"
      ]
     },
     "execution_count": 105,
     "metadata": {},
     "output_type": "execute_result"
    }
   ],
   "source": [
    "completePatients.fillna(method=\"ffill\")"
   ]
  },
  {
   "cell_type": "code",
   "execution_count": 106,
   "metadata": {},
   "outputs": [],
   "source": [
    "# fill NaN-values with mean of \"Height\""
   ]
  },
  {
   "cell_type": "code",
   "execution_count": 107,
   "metadata": {},
   "outputs": [
    {
     "data": {
      "text/html": [
       "<div>\n",
       "<style scoped>\n",
       "    .dataframe tbody tr th:only-of-type {\n",
       "        vertical-align: middle;\n",
       "    }\n",
       "\n",
       "    .dataframe tbody tr th {\n",
       "        vertical-align: top;\n",
       "    }\n",
       "\n",
       "    .dataframe thead th {\n",
       "        text-align: right;\n",
       "    }\n",
       "</style>\n",
       "<table border=\"1\" class=\"dataframe\">\n",
       "  <thead>\n",
       "    <tr style=\"text-align: right;\">\n",
       "      <th></th>\n",
       "      <th>Blood Pressure</th>\n",
       "      <th>Height</th>\n",
       "      <th>Weight</th>\n",
       "    </tr>\n",
       "    <tr>\n",
       "      <th>Patient name</th>\n",
       "      <th></th>\n",
       "      <th></th>\n",
       "      <th></th>\n",
       "    </tr>\n",
       "  </thead>\n",
       "  <tbody>\n",
       "    <tr>\n",
       "      <th>Andreas</th>\n",
       "      <td>0.870012</td>\n",
       "      <td>0.592684</td>\n",
       "      <td>0.978618</td>\n",
       "    </tr>\n",
       "    <tr>\n",
       "      <th>Jakob</th>\n",
       "      <td>0.461479</td>\n",
       "      <td>0.592684</td>\n",
       "      <td>0.780529</td>\n",
       "    </tr>\n",
       "    <tr>\n",
       "      <th>Mario</th>\n",
       "      <td>0.639921</td>\n",
       "      <td>0.592684</td>\n",
       "      <td>0.143353</td>\n",
       "    </tr>\n",
       "    <tr>\n",
       "      <th>Romana</th>\n",
       "      <td>0.521848</td>\n",
       "      <td>0.592684</td>\n",
       "      <td>0.414662</td>\n",
       "    </tr>\n",
       "    <tr>\n",
       "      <th>Mathias</th>\n",
       "      <td>0.774234</td>\n",
       "      <td>0.568434</td>\n",
       "      <td>0.456150</td>\n",
       "    </tr>\n",
       "    <tr>\n",
       "      <th>Daniel</th>\n",
       "      <td>0.617635</td>\n",
       "      <td>0.616934</td>\n",
       "      <td>0.612096</td>\n",
       "    </tr>\n",
       "  </tbody>\n",
       "</table>\n",
       "</div>"
      ],
      "text/plain": [
       "              Blood Pressure    Height    Weight\n",
       "Patient name                                    \n",
       "Andreas             0.870012  0.592684  0.978618\n",
       "Jakob               0.461479  0.592684  0.780529\n",
       "Mario               0.639921  0.592684  0.143353\n",
       "Romana              0.521848  0.592684  0.414662\n",
       "Mathias             0.774234  0.568434  0.456150\n",
       "Daniel              0.617635  0.616934  0.612096"
      ]
     },
     "execution_count": 107,
     "metadata": {},
     "output_type": "execute_result"
    }
   ],
   "source": [
    "means = completePatients[\"Height\"].mean(skipna=\"True\")\n",
    "completePatients.fillna(value = means)"
   ]
  },
  {
   "cell_type": "markdown",
   "metadata": {},
   "source": [
    "## Exercise 3.4: CSV Recording\n",
    "\n",
    "To prepare for the next part, capture your own acceleration data using your phone. The following apps work well and are free to use:\n",
    "* [Android – Physics Toolbox Accelerometer](https://play.google.com/store/apps/details?id=com.chrystianvieyra.android.physicstoolboxaccelerometer) - use the fastest possible frequency. Use the \"Elapsed time\" for the time stamp, as the \"clock time\" exported by this app isn't accurate enough. You only need to export X + Y + Z axis.\n",
    "* [iOS – PowerSense: Motion Sensor Data Logging Tool](https://itunes.apple.com/us/app/powersense-motion-sensor-data-logging-tool/id1050491381?mt=8) - exports a full and accurate timestamp including year + month + ... as far as I know. You only need to export X + Y + Z axis.\n",
    "\n",
    "Capture a specific movement (picking up the phone, walking, throwing your phone out of the window, ...) and make sure the total useful captured time is several seconds. Export the data as CSV and send it to your computer. Describe the movement you captured in a comment. I'd recommend to use the semicolon as delimiter. Set your phone language to English so that it uses a . as decimal separator - this will work better with importing to the PC. Otherwise, you could for example do a search & replace with a text editor to change all , to ."
   ]
  },
  {
   "cell_type": "code",
   "execution_count": 108,
   "metadata": {},
   "outputs": [],
   "source": [
    "# walking with phone in the right hand"
   ]
  },
  {
   "cell_type": "markdown",
   "metadata": {},
   "source": [
    "## Exercise 3.5: CSV Plotting\n",
    "\n",
    "* Upload the CSV file to your JupyterLabs / Notebook workspace.\n",
    "* Then use Pandas to load the CSV file. Make sure you specify the right separator.\n",
    "* Explore the basic info of your data using the info() method.\n",
    "* Try plotting the graph and configure the environment to use inline graphics.\n",
    "* In case the first column isn't automatically recognized as time, follow the instructions from the lecture to convert the time stamp to a time, and assign it as an index. Plot again to make sure the X axis is the time and not the row number."
   ]
  },
  {
   "cell_type": "code",
   "execution_count": 109,
   "metadata": {},
   "outputs": [],
   "source": [
    "# datetime conversion"
   ]
  },
  {
   "cell_type": "code",
   "execution_count": 110,
   "metadata": {},
   "outputs": [],
   "source": [
    "def dateparse(timestamp):\n",
    "    tmp = \"{:.8f}\".format(float(timestamp))\n",
    "    return pd.to_datetime(tmp, unit=\"ms\") + pd.DateOffset(years=49, months=2, days=8)"
   ]
  },
  {
   "cell_type": "code",
   "execution_count": 111,
   "metadata": {},
   "outputs": [],
   "source": [
    "# import data from phonedata.csv"
   ]
  },
  {
   "cell_type": "code",
   "execution_count": 112,
   "metadata": {},
   "outputs": [
    {
     "name": "stderr",
     "output_type": "stream",
     "text": [
      "C:\\Users\\Marcel\\Anaconda3\\lib\\site-packages\\pandas\\tseries\\offsets.py:77: UserWarning: Discarding nonzero nanoseconds in conversion\n",
      "  result = func(self, other)\n"
     ]
    },
    {
     "data": {
      "text/html": [
       "<div>\n",
       "<style scoped>\n",
       "    .dataframe tbody tr th:only-of-type {\n",
       "        vertical-align: middle;\n",
       "    }\n",
       "\n",
       "    .dataframe tbody tr th {\n",
       "        vertical-align: top;\n",
       "    }\n",
       "\n",
       "    .dataframe thead th {\n",
       "        text-align: right;\n",
       "    }\n",
       "</style>\n",
       "<table border=\"1\" class=\"dataframe\">\n",
       "  <thead>\n",
       "    <tr style=\"text-align: right;\">\n",
       "      <th></th>\n",
       "      <th>Acceleration x (m/s^2)</th>\n",
       "      <th>Acceleration y (m/s^2)</th>\n",
       "      <th>Acceleration z (m/s^2)</th>\n",
       "      <th>Absolute acceleration (m/s^2)</th>\n",
       "    </tr>\n",
       "    <tr>\n",
       "      <th>Time (s)</th>\n",
       "      <th></th>\n",
       "      <th></th>\n",
       "      <th></th>\n",
       "      <th></th>\n",
       "    </tr>\n",
       "  </thead>\n",
       "  <tbody>\n",
       "    <tr>\n",
       "      <th>2019-03-09 00:00:00.000000000</th>\n",
       "      <td>-4.135418</td>\n",
       "      <td>6.766991</td>\n",
       "      <td>4.975726</td>\n",
       "      <td>9.362248</td>\n",
       "    </tr>\n",
       "    <tr>\n",
       "      <th>2019-03-09 00:00:00.000001925</th>\n",
       "      <td>-4.187219</td>\n",
       "      <td>6.812461</td>\n",
       "      <td>5.072988</td>\n",
       "      <td>9.469828</td>\n",
       "    </tr>\n",
       "    <tr>\n",
       "      <th>2019-03-09 00:00:00.000003922</th>\n",
       "      <td>-4.233026</td>\n",
       "      <td>6.853297</td>\n",
       "      <td>5.178093</td>\n",
       "      <td>9.575951</td>\n",
       "    </tr>\n",
       "    <tr>\n",
       "      <th>2019-03-09 00:00:00.000005922</th>\n",
       "      <td>-4.273430</td>\n",
       "      <td>6.879585</td>\n",
       "      <td>5.292862</td>\n",
       "      <td>9.674982</td>\n",
       "    </tr>\n",
       "    <tr>\n",
       "      <th>2019-03-09 00:00:00.000007922</th>\n",
       "      <td>-4.308088</td>\n",
       "      <td>6.893069</td>\n",
       "      <td>5.413702</td>\n",
       "      <td>9.766381</td>\n",
       "    </tr>\n",
       "    <tr>\n",
       "      <th>2019-03-09 00:00:00.000009922</th>\n",
       "      <td>-4.331082</td>\n",
       "      <td>6.895684</td>\n",
       "      <td>5.538152</td>\n",
       "      <td>9.847835</td>\n",
       "    </tr>\n",
       "    <tr>\n",
       "      <th>2019-03-09 00:00:00.000011922</th>\n",
       "      <td>-4.337268</td>\n",
       "      <td>6.892992</td>\n",
       "      <td>5.666462</td>\n",
       "      <td>9.921393</td>\n",
       "    </tr>\n",
       "    <tr>\n",
       "      <th>2019-03-09 00:00:00.000013922</th>\n",
       "      <td>-4.346367</td>\n",
       "      <td>6.894640</td>\n",
       "      <td>5.789515</td>\n",
       "      <td>9.997272</td>\n",
       "    </tr>\n",
       "    <tr>\n",
       "      <th>2019-03-09 00:00:00.000015921</th>\n",
       "      <td>-4.342316</td>\n",
       "      <td>6.886385</td>\n",
       "      <td>5.909857</td>\n",
       "      <td>10.060040</td>\n",
       "    </tr>\n",
       "    <tr>\n",
       "      <th>2019-03-09 00:00:00.000017922</th>\n",
       "      <td>-4.303960</td>\n",
       "      <td>6.871196</td>\n",
       "      <td>6.022863</td>\n",
       "      <td>10.100114</td>\n",
       "    </tr>\n",
       "    <tr>\n",
       "      <th>2019-03-09 00:00:00.000019922</th>\n",
       "      <td>-4.257819</td>\n",
       "      <td>6.848250</td>\n",
       "      <td>6.129961</td>\n",
       "      <td>10.129362</td>\n",
       "    </tr>\n",
       "    <tr>\n",
       "      <th>2019-03-09 00:00:00.000021922</th>\n",
       "      <td>-4.182144</td>\n",
       "      <td>6.801544</td>\n",
       "      <td>6.224264</td>\n",
       "      <td>10.123872</td>\n",
       "    </tr>\n",
       "    <tr>\n",
       "      <th>2019-03-09 00:00:00.000023922</th>\n",
       "      <td>-4.092811</td>\n",
       "      <td>6.749283</td>\n",
       "      <td>6.302995</td>\n",
       "      <td>10.101073</td>\n",
       "    </tr>\n",
       "    <tr>\n",
       "      <th>2019-03-09 00:00:00.000025922</th>\n",
       "      <td>-3.989583</td>\n",
       "      <td>6.680656</td>\n",
       "      <td>6.373001</td>\n",
       "      <td>10.057986</td>\n",
       "    </tr>\n",
       "    <tr>\n",
       "      <th>2019-03-09 00:00:00.000027922</th>\n",
       "      <td>-3.857682</td>\n",
       "      <td>6.585692</td>\n",
       "      <td>6.435020</td>\n",
       "      <td>9.983113</td>\n",
       "    </tr>\n",
       "    <tr>\n",
       "      <th>2019-03-09 00:00:00.000029922</th>\n",
       "      <td>-3.751982</td>\n",
       "      <td>6.463195</td>\n",
       "      <td>6.496877</td>\n",
       "      <td>9.902508</td>\n",
       "    </tr>\n",
       "    <tr>\n",
       "      <th>2019-03-09 00:00:00.000031922</th>\n",
       "      <td>-3.612467</td>\n",
       "      <td>6.345075</td>\n",
       "      <td>6.568435</td>\n",
       "      <td>9.821112</td>\n",
       "    </tr>\n",
       "    <tr>\n",
       "      <th>2019-03-09 00:00:00.000033922</th>\n",
       "      <td>-3.441876</td>\n",
       "      <td>6.250265</td>\n",
       "      <td>6.593066</td>\n",
       "      <td>9.714980</td>\n",
       "    </tr>\n",
       "    <tr>\n",
       "      <th>2019-03-09 00:00:00.000036097</th>\n",
       "      <td>-3.252925</td>\n",
       "      <td>6.164907</td>\n",
       "      <td>6.583461</td>\n",
       "      <td>9.587990</td>\n",
       "    </tr>\n",
       "    <tr>\n",
       "      <th>2019-03-09 00:00:00.000037922</th>\n",
       "      <td>-3.076300</td>\n",
       "      <td>6.072720</td>\n",
       "      <td>6.576460</td>\n",
       "      <td>9.465273</td>\n",
       "    </tr>\n",
       "    <tr>\n",
       "      <th>2019-03-09 00:00:00.000039922</th>\n",
       "      <td>-2.938499</td>\n",
       "      <td>5.977469</td>\n",
       "      <td>6.582101</td>\n",
       "      <td>9.364239</td>\n",
       "    </tr>\n",
       "    <tr>\n",
       "      <th>2019-03-09 00:00:00.000041922</th>\n",
       "      <td>-2.855603</td>\n",
       "      <td>5.880523</td>\n",
       "      <td>6.595959</td>\n",
       "      <td>9.286640</td>\n",
       "    </tr>\n",
       "    <tr>\n",
       "      <th>2019-03-09 00:00:00.000043922</th>\n",
       "      <td>-2.813503</td>\n",
       "      <td>5.800097</td>\n",
       "      <td>6.620964</td>\n",
       "      <td>9.240892</td>\n",
       "    </tr>\n",
       "    <tr>\n",
       "      <th>2019-03-09 00:00:00.000045922</th>\n",
       "      <td>-2.801848</td>\n",
       "      <td>5.750212</td>\n",
       "      <td>6.666291</td>\n",
       "      <td>9.238762</td>\n",
       "    </tr>\n",
       "    <tr>\n",
       "      <th>2019-03-09 00:00:00.000047922</th>\n",
       "      <td>-2.820724</td>\n",
       "      <td>5.718254</td>\n",
       "      <td>6.722555</td>\n",
       "      <td>9.265401</td>\n",
       "    </tr>\n",
       "    <tr>\n",
       "      <th>2019-03-09 00:00:00.000049922</th>\n",
       "      <td>-2.872171</td>\n",
       "      <td>5.702529</td>\n",
       "      <td>6.789104</td>\n",
       "      <td>9.319878</td>\n",
       "    </tr>\n",
       "    <tr>\n",
       "      <th>2019-03-09 00:00:00.000051922</th>\n",
       "      <td>-2.952271</td>\n",
       "      <td>5.675245</td>\n",
       "      <td>6.858305</td>\n",
       "      <td>9.378735</td>\n",
       "    </tr>\n",
       "    <tr>\n",
       "      <th>2019-03-09 00:00:00.000053922</th>\n",
       "      <td>-3.028589</td>\n",
       "      <td>5.641333</td>\n",
       "      <td>6.924673</td>\n",
       "      <td>9.431229</td>\n",
       "    </tr>\n",
       "    <tr>\n",
       "      <th>2019-03-09 00:00:00.000055922</th>\n",
       "      <td>-3.086404</td>\n",
       "      <td>5.610180</td>\n",
       "      <td>6.983369</td>\n",
       "      <td>9.474569</td>\n",
       "    </tr>\n",
       "    <tr>\n",
       "      <th>2019-03-09 00:00:00.000057922</th>\n",
       "      <td>-3.129260</td>\n",
       "      <td>5.583978</td>\n",
       "      <td>7.041405</td>\n",
       "      <td>9.516011</td>\n",
       "    </tr>\n",
       "    <tr>\n",
       "      <th>...</th>\n",
       "      <td>...</td>\n",
       "      <td>...</td>\n",
       "      <td>...</td>\n",
       "      <td>...</td>\n",
       "    </tr>\n",
       "    <tr>\n",
       "      <th>2019-03-09 00:00:00.026209922</th>\n",
       "      <td>-2.968992</td>\n",
       "      <td>4.547748</td>\n",
       "      <td>9.206290</td>\n",
       "      <td>10.688906</td>\n",
       "    </tr>\n",
       "    <tr>\n",
       "      <th>2019-03-09 00:00:00.026211922</th>\n",
       "      <td>-2.912029</td>\n",
       "      <td>4.560744</td>\n",
       "      <td>9.037738</td>\n",
       "      <td>10.533803</td>\n",
       "    </tr>\n",
       "    <tr>\n",
       "      <th>2019-03-09 00:00:00.026213922</th>\n",
       "      <td>-2.873473</td>\n",
       "      <td>4.577963</td>\n",
       "      <td>8.846748</td>\n",
       "      <td>10.367234</td>\n",
       "    </tr>\n",
       "    <tr>\n",
       "      <th>2019-03-09 00:00:00.026216377</th>\n",
       "      <td>-2.846916</td>\n",
       "      <td>4.590949</td>\n",
       "      <td>8.648498</td>\n",
       "      <td>10.196973</td>\n",
       "    </tr>\n",
       "    <tr>\n",
       "      <th>2019-03-09 00:00:00.026218211</th>\n",
       "      <td>-2.842875</td>\n",
       "      <td>4.609346</td>\n",
       "      <td>8.451953</td>\n",
       "      <td>10.038103</td>\n",
       "    </tr>\n",
       "    <tr>\n",
       "      <th>2019-03-09 00:00:00.026220302</th>\n",
       "      <td>-2.856120</td>\n",
       "      <td>4.635529</td>\n",
       "      <td>8.248044</td>\n",
       "      <td>9.883106</td>\n",
       "    </tr>\n",
       "    <tr>\n",
       "      <th>2019-03-09 00:00:00.026222202</th>\n",
       "      <td>-2.880522</td>\n",
       "      <td>4.676278</td>\n",
       "      <td>8.043570</td>\n",
       "      <td>9.739815</td>\n",
       "    </tr>\n",
       "    <tr>\n",
       "      <th>2019-03-09 00:00:00.026223922</th>\n",
       "      <td>-2.922880</td>\n",
       "      <td>4.722055</td>\n",
       "      <td>7.828819</td>\n",
       "      <td>9.598512</td>\n",
       "    </tr>\n",
       "    <tr>\n",
       "      <th>2019-03-09 00:00:00.026226378</th>\n",
       "      <td>-2.999121</td>\n",
       "      <td>4.776001</td>\n",
       "      <td>7.600202</td>\n",
       "      <td>9.464036</td>\n",
       "    </tr>\n",
       "    <tr>\n",
       "      <th>2019-03-09 00:00:00.026227961</th>\n",
       "      <td>-3.239068</td>\n",
       "      <td>4.800240</td>\n",
       "      <td>7.341015</td>\n",
       "      <td>9.350100</td>\n",
       "    </tr>\n",
       "    <tr>\n",
       "      <th>2019-03-09 00:00:00.026229922</th>\n",
       "      <td>-3.611404</td>\n",
       "      <td>4.784841</td>\n",
       "      <td>7.054774</td>\n",
       "      <td>9.257795</td>\n",
       "    </tr>\n",
       "    <tr>\n",
       "      <th>2019-03-09 00:00:00.026231922</th>\n",
       "      <td>-3.816367</td>\n",
       "      <td>4.783481</td>\n",
       "      <td>6.773273</td>\n",
       "      <td>9.128175</td>\n",
       "    </tr>\n",
       "    <tr>\n",
       "      <th>2019-03-09 00:00:00.026233922</th>\n",
       "      <td>-3.867268</td>\n",
       "      <td>4.787522</td>\n",
       "      <td>6.510486</td>\n",
       "      <td>8.958937</td>\n",
       "    </tr>\n",
       "    <tr>\n",
       "      <th>2019-03-09 00:00:00.026236375</th>\n",
       "      <td>-3.801628</td>\n",
       "      <td>4.806312</td>\n",
       "      <td>6.274561</td>\n",
       "      <td>8.770583</td>\n",
       "    </tr>\n",
       "    <tr>\n",
       "      <th>2019-03-09 00:00:00.026237972</th>\n",
       "      <td>-3.628116</td>\n",
       "      <td>4.831662</td>\n",
       "      <td>6.052992</td>\n",
       "      <td>8.552596</td>\n",
       "    </tr>\n",
       "    <tr>\n",
       "      <th>2019-03-09 00:00:00.026239922</th>\n",
       "      <td>-3.399115</td>\n",
       "      <td>4.860497</td>\n",
       "      <td>5.852981</td>\n",
       "      <td>8.332815</td>\n",
       "    </tr>\n",
       "    <tr>\n",
       "      <th>2019-03-09 00:00:00.026241922</th>\n",
       "      <td>-3.168190</td>\n",
       "      <td>4.887945</td>\n",
       "      <td>5.675273</td>\n",
       "      <td>8.132537</td>\n",
       "    </tr>\n",
       "    <tr>\n",
       "      <th>2019-03-09 00:00:00.026243923</th>\n",
       "      <td>-2.948756</td>\n",
       "      <td>4.920832</td>\n",
       "      <td>5.535059</td>\n",
       "      <td>7.971614</td>\n",
       "    </tr>\n",
       "    <tr>\n",
       "      <th>2019-03-09 00:00:00.026246381</th>\n",
       "      <td>-2.746992</td>\n",
       "      <td>4.960537</td>\n",
       "      <td>5.430174</td>\n",
       "      <td>7.851094</td>\n",
       "    </tr>\n",
       "    <tr>\n",
       "      <th>2019-03-09 00:00:00.026247962</th>\n",
       "      <td>-2.579139</td>\n",
       "      <td>4.999093</td>\n",
       "      <td>5.348254</td>\n",
       "      <td>7.761875</td>\n",
       "    </tr>\n",
       "    <tr>\n",
       "      <th>2019-03-09 00:00:00.026249923</th>\n",
       "      <td>-2.460732</td>\n",
       "      <td>5.033799</td>\n",
       "      <td>5.290515</td>\n",
       "      <td>7.706094</td>\n",
       "    </tr>\n",
       "    <tr>\n",
       "      <th>2019-03-09 00:00:00.026251921</th>\n",
       "      <td>-2.392430</td>\n",
       "      <td>5.061917</td>\n",
       "      <td>5.247554</td>\n",
       "      <td>7.673561</td>\n",
       "    </tr>\n",
       "    <tr>\n",
       "      <th>2019-03-09 00:00:00.026253921</th>\n",
       "      <td>-2.375364</td>\n",
       "      <td>5.080056</td>\n",
       "      <td>5.219235</td>\n",
       "      <td>7.660923</td>\n",
       "    </tr>\n",
       "    <tr>\n",
       "      <th>2019-03-09 00:00:00.026256378</th>\n",
       "      <td>-2.400628</td>\n",
       "      <td>5.098127</td>\n",
       "      <td>5.210492</td>\n",
       "      <td>7.674838</td>\n",
       "    </tr>\n",
       "    <tr>\n",
       "      <th>2019-03-09 00:00:00.026257961</th>\n",
       "      <td>-2.460818</td>\n",
       "      <td>5.117759</td>\n",
       "      <td>5.230871</td>\n",
       "      <td>7.720693</td>\n",
       "    </tr>\n",
       "    <tr>\n",
       "      <th>2019-03-09 00:00:00.026259922</th>\n",
       "      <td>-2.534071</td>\n",
       "      <td>5.123103</td>\n",
       "      <td>5.274513</td>\n",
       "      <td>7.777415</td>\n",
       "    </tr>\n",
       "    <tr>\n",
       "      <th>2019-03-09 00:00:00.026261922</th>\n",
       "      <td>-2.606089</td>\n",
       "      <td>5.128983</td>\n",
       "      <td>5.340439</td>\n",
       "      <td>7.849743</td>\n",
       "    </tr>\n",
       "    <tr>\n",
       "      <th>2019-03-09 00:00:00.026263922</th>\n",
       "      <td>-2.686285</td>\n",
       "      <td>5.139834</td>\n",
       "      <td>5.425817</td>\n",
       "      <td>7.941883</td>\n",
       "    </tr>\n",
       "    <tr>\n",
       "      <th>2019-03-09 00:00:00.026266378</th>\n",
       "      <td>-2.754146</td>\n",
       "      <td>5.144814</td>\n",
       "      <td>5.536496</td>\n",
       "      <td>8.044080</td>\n",
       "    </tr>\n",
       "    <tr>\n",
       "      <th>2019-03-09 00:00:00.026267961</th>\n",
       "      <td>-2.803965</td>\n",
       "      <td>5.143693</td>\n",
       "      <td>5.659950</td>\n",
       "      <td>8.145848</td>\n",
       "    </tr>\n",
       "  </tbody>\n",
       "</table>\n",
       "<p>13135 rows × 4 columns</p>\n",
       "</div>"
      ],
      "text/plain": [
       "                               Acceleration x (m/s^2)  Acceleration y (m/s^2)  \\\n",
       "Time (s)                                                                        \n",
       "2019-03-09 00:00:00.000000000               -4.135418                6.766991   \n",
       "2019-03-09 00:00:00.000001925               -4.187219                6.812461   \n",
       "2019-03-09 00:00:00.000003922               -4.233026                6.853297   \n",
       "2019-03-09 00:00:00.000005922               -4.273430                6.879585   \n",
       "2019-03-09 00:00:00.000007922               -4.308088                6.893069   \n",
       "2019-03-09 00:00:00.000009922               -4.331082                6.895684   \n",
       "2019-03-09 00:00:00.000011922               -4.337268                6.892992   \n",
       "2019-03-09 00:00:00.000013922               -4.346367                6.894640   \n",
       "2019-03-09 00:00:00.000015921               -4.342316                6.886385   \n",
       "2019-03-09 00:00:00.000017922               -4.303960                6.871196   \n",
       "2019-03-09 00:00:00.000019922               -4.257819                6.848250   \n",
       "2019-03-09 00:00:00.000021922               -4.182144                6.801544   \n",
       "2019-03-09 00:00:00.000023922               -4.092811                6.749283   \n",
       "2019-03-09 00:00:00.000025922               -3.989583                6.680656   \n",
       "2019-03-09 00:00:00.000027922               -3.857682                6.585692   \n",
       "2019-03-09 00:00:00.000029922               -3.751982                6.463195   \n",
       "2019-03-09 00:00:00.000031922               -3.612467                6.345075   \n",
       "2019-03-09 00:00:00.000033922               -3.441876                6.250265   \n",
       "2019-03-09 00:00:00.000036097               -3.252925                6.164907   \n",
       "2019-03-09 00:00:00.000037922               -3.076300                6.072720   \n",
       "2019-03-09 00:00:00.000039922               -2.938499                5.977469   \n",
       "2019-03-09 00:00:00.000041922               -2.855603                5.880523   \n",
       "2019-03-09 00:00:00.000043922               -2.813503                5.800097   \n",
       "2019-03-09 00:00:00.000045922               -2.801848                5.750212   \n",
       "2019-03-09 00:00:00.000047922               -2.820724                5.718254   \n",
       "2019-03-09 00:00:00.000049922               -2.872171                5.702529   \n",
       "2019-03-09 00:00:00.000051922               -2.952271                5.675245   \n",
       "2019-03-09 00:00:00.000053922               -3.028589                5.641333   \n",
       "2019-03-09 00:00:00.000055922               -3.086404                5.610180   \n",
       "2019-03-09 00:00:00.000057922               -3.129260                5.583978   \n",
       "...                                               ...                     ...   \n",
       "2019-03-09 00:00:00.026209922               -2.968992                4.547748   \n",
       "2019-03-09 00:00:00.026211922               -2.912029                4.560744   \n",
       "2019-03-09 00:00:00.026213922               -2.873473                4.577963   \n",
       "2019-03-09 00:00:00.026216377               -2.846916                4.590949   \n",
       "2019-03-09 00:00:00.026218211               -2.842875                4.609346   \n",
       "2019-03-09 00:00:00.026220302               -2.856120                4.635529   \n",
       "2019-03-09 00:00:00.026222202               -2.880522                4.676278   \n",
       "2019-03-09 00:00:00.026223922               -2.922880                4.722055   \n",
       "2019-03-09 00:00:00.026226378               -2.999121                4.776001   \n",
       "2019-03-09 00:00:00.026227961               -3.239068                4.800240   \n",
       "2019-03-09 00:00:00.026229922               -3.611404                4.784841   \n",
       "2019-03-09 00:00:00.026231922               -3.816367                4.783481   \n",
       "2019-03-09 00:00:00.026233922               -3.867268                4.787522   \n",
       "2019-03-09 00:00:00.026236375               -3.801628                4.806312   \n",
       "2019-03-09 00:00:00.026237972               -3.628116                4.831662   \n",
       "2019-03-09 00:00:00.026239922               -3.399115                4.860497   \n",
       "2019-03-09 00:00:00.026241922               -3.168190                4.887945   \n",
       "2019-03-09 00:00:00.026243923               -2.948756                4.920832   \n",
       "2019-03-09 00:00:00.026246381               -2.746992                4.960537   \n",
       "2019-03-09 00:00:00.026247962               -2.579139                4.999093   \n",
       "2019-03-09 00:00:00.026249923               -2.460732                5.033799   \n",
       "2019-03-09 00:00:00.026251921               -2.392430                5.061917   \n",
       "2019-03-09 00:00:00.026253921               -2.375364                5.080056   \n",
       "2019-03-09 00:00:00.026256378               -2.400628                5.098127   \n",
       "2019-03-09 00:00:00.026257961               -2.460818                5.117759   \n",
       "2019-03-09 00:00:00.026259922               -2.534071                5.123103   \n",
       "2019-03-09 00:00:00.026261922               -2.606089                5.128983   \n",
       "2019-03-09 00:00:00.026263922               -2.686285                5.139834   \n",
       "2019-03-09 00:00:00.026266378               -2.754146                5.144814   \n",
       "2019-03-09 00:00:00.026267961               -2.803965                5.143693   \n",
       "\n",
       "                               Acceleration z (m/s^2)  \\\n",
       "Time (s)                                                \n",
       "2019-03-09 00:00:00.000000000                4.975726   \n",
       "2019-03-09 00:00:00.000001925                5.072988   \n",
       "2019-03-09 00:00:00.000003922                5.178093   \n",
       "2019-03-09 00:00:00.000005922                5.292862   \n",
       "2019-03-09 00:00:00.000007922                5.413702   \n",
       "2019-03-09 00:00:00.000009922                5.538152   \n",
       "2019-03-09 00:00:00.000011922                5.666462   \n",
       "2019-03-09 00:00:00.000013922                5.789515   \n",
       "2019-03-09 00:00:00.000015921                5.909857   \n",
       "2019-03-09 00:00:00.000017922                6.022863   \n",
       "2019-03-09 00:00:00.000019922                6.129961   \n",
       "2019-03-09 00:00:00.000021922                6.224264   \n",
       "2019-03-09 00:00:00.000023922                6.302995   \n",
       "2019-03-09 00:00:00.000025922                6.373001   \n",
       "2019-03-09 00:00:00.000027922                6.435020   \n",
       "2019-03-09 00:00:00.000029922                6.496877   \n",
       "2019-03-09 00:00:00.000031922                6.568435   \n",
       "2019-03-09 00:00:00.000033922                6.593066   \n",
       "2019-03-09 00:00:00.000036097                6.583461   \n",
       "2019-03-09 00:00:00.000037922                6.576460   \n",
       "2019-03-09 00:00:00.000039922                6.582101   \n",
       "2019-03-09 00:00:00.000041922                6.595959   \n",
       "2019-03-09 00:00:00.000043922                6.620964   \n",
       "2019-03-09 00:00:00.000045922                6.666291   \n",
       "2019-03-09 00:00:00.000047922                6.722555   \n",
       "2019-03-09 00:00:00.000049922                6.789104   \n",
       "2019-03-09 00:00:00.000051922                6.858305   \n",
       "2019-03-09 00:00:00.000053922                6.924673   \n",
       "2019-03-09 00:00:00.000055922                6.983369   \n",
       "2019-03-09 00:00:00.000057922                7.041405   \n",
       "...                                               ...   \n",
       "2019-03-09 00:00:00.026209922                9.206290   \n",
       "2019-03-09 00:00:00.026211922                9.037738   \n",
       "2019-03-09 00:00:00.026213922                8.846748   \n",
       "2019-03-09 00:00:00.026216377                8.648498   \n",
       "2019-03-09 00:00:00.026218211                8.451953   \n",
       "2019-03-09 00:00:00.026220302                8.248044   \n",
       "2019-03-09 00:00:00.026222202                8.043570   \n",
       "2019-03-09 00:00:00.026223922                7.828819   \n",
       "2019-03-09 00:00:00.026226378                7.600202   \n",
       "2019-03-09 00:00:00.026227961                7.341015   \n",
       "2019-03-09 00:00:00.026229922                7.054774   \n",
       "2019-03-09 00:00:00.026231922                6.773273   \n",
       "2019-03-09 00:00:00.026233922                6.510486   \n",
       "2019-03-09 00:00:00.026236375                6.274561   \n",
       "2019-03-09 00:00:00.026237972                6.052992   \n",
       "2019-03-09 00:00:00.026239922                5.852981   \n",
       "2019-03-09 00:00:00.026241922                5.675273   \n",
       "2019-03-09 00:00:00.026243923                5.535059   \n",
       "2019-03-09 00:00:00.026246381                5.430174   \n",
       "2019-03-09 00:00:00.026247962                5.348254   \n",
       "2019-03-09 00:00:00.026249923                5.290515   \n",
       "2019-03-09 00:00:00.026251921                5.247554   \n",
       "2019-03-09 00:00:00.026253921                5.219235   \n",
       "2019-03-09 00:00:00.026256378                5.210492   \n",
       "2019-03-09 00:00:00.026257961                5.230871   \n",
       "2019-03-09 00:00:00.026259922                5.274513   \n",
       "2019-03-09 00:00:00.026261922                5.340439   \n",
       "2019-03-09 00:00:00.026263922                5.425817   \n",
       "2019-03-09 00:00:00.026266378                5.536496   \n",
       "2019-03-09 00:00:00.026267961                5.659950   \n",
       "\n",
       "                               Absolute acceleration (m/s^2)  \n",
       "Time (s)                                                      \n",
       "2019-03-09 00:00:00.000000000                       9.362248  \n",
       "2019-03-09 00:00:00.000001925                       9.469828  \n",
       "2019-03-09 00:00:00.000003922                       9.575951  \n",
       "2019-03-09 00:00:00.000005922                       9.674982  \n",
       "2019-03-09 00:00:00.000007922                       9.766381  \n",
       "2019-03-09 00:00:00.000009922                       9.847835  \n",
       "2019-03-09 00:00:00.000011922                       9.921393  \n",
       "2019-03-09 00:00:00.000013922                       9.997272  \n",
       "2019-03-09 00:00:00.000015921                      10.060040  \n",
       "2019-03-09 00:00:00.000017922                      10.100114  \n",
       "2019-03-09 00:00:00.000019922                      10.129362  \n",
       "2019-03-09 00:00:00.000021922                      10.123872  \n",
       "2019-03-09 00:00:00.000023922                      10.101073  \n",
       "2019-03-09 00:00:00.000025922                      10.057986  \n",
       "2019-03-09 00:00:00.000027922                       9.983113  \n",
       "2019-03-09 00:00:00.000029922                       9.902508  \n",
       "2019-03-09 00:00:00.000031922                       9.821112  \n",
       "2019-03-09 00:00:00.000033922                       9.714980  \n",
       "2019-03-09 00:00:00.000036097                       9.587990  \n",
       "2019-03-09 00:00:00.000037922                       9.465273  \n",
       "2019-03-09 00:00:00.000039922                       9.364239  \n",
       "2019-03-09 00:00:00.000041922                       9.286640  \n",
       "2019-03-09 00:00:00.000043922                       9.240892  \n",
       "2019-03-09 00:00:00.000045922                       9.238762  \n",
       "2019-03-09 00:00:00.000047922                       9.265401  \n",
       "2019-03-09 00:00:00.000049922                       9.319878  \n",
       "2019-03-09 00:00:00.000051922                       9.378735  \n",
       "2019-03-09 00:00:00.000053922                       9.431229  \n",
       "2019-03-09 00:00:00.000055922                       9.474569  \n",
       "2019-03-09 00:00:00.000057922                       9.516011  \n",
       "...                                                      ...  \n",
       "2019-03-09 00:00:00.026209922                      10.688906  \n",
       "2019-03-09 00:00:00.026211922                      10.533803  \n",
       "2019-03-09 00:00:00.026213922                      10.367234  \n",
       "2019-03-09 00:00:00.026216377                      10.196973  \n",
       "2019-03-09 00:00:00.026218211                      10.038103  \n",
       "2019-03-09 00:00:00.026220302                       9.883106  \n",
       "2019-03-09 00:00:00.026222202                       9.739815  \n",
       "2019-03-09 00:00:00.026223922                       9.598512  \n",
       "2019-03-09 00:00:00.026226378                       9.464036  \n",
       "2019-03-09 00:00:00.026227961                       9.350100  \n",
       "2019-03-09 00:00:00.026229922                       9.257795  \n",
       "2019-03-09 00:00:00.026231922                       9.128175  \n",
       "2019-03-09 00:00:00.026233922                       8.958937  \n",
       "2019-03-09 00:00:00.026236375                       8.770583  \n",
       "2019-03-09 00:00:00.026237972                       8.552596  \n",
       "2019-03-09 00:00:00.026239922                       8.332815  \n",
       "2019-03-09 00:00:00.026241922                       8.132537  \n",
       "2019-03-09 00:00:00.026243923                       7.971614  \n",
       "2019-03-09 00:00:00.026246381                       7.851094  \n",
       "2019-03-09 00:00:00.026247962                       7.761875  \n",
       "2019-03-09 00:00:00.026249923                       7.706094  \n",
       "2019-03-09 00:00:00.026251921                       7.673561  \n",
       "2019-03-09 00:00:00.026253921                       7.660923  \n",
       "2019-03-09 00:00:00.026256378                       7.674838  \n",
       "2019-03-09 00:00:00.026257961                       7.720693  \n",
       "2019-03-09 00:00:00.026259922                       7.777415  \n",
       "2019-03-09 00:00:00.026261922                       7.849743  \n",
       "2019-03-09 00:00:00.026263922                       7.941883  \n",
       "2019-03-09 00:00:00.026266378                       8.044080  \n",
       "2019-03-09 00:00:00.026267961                       8.145848  \n",
       "\n",
       "[13135 rows x 4 columns]"
      ]
     },
     "execution_count": 112,
     "metadata": {},
     "output_type": "execute_result"
    }
   ],
   "source": [
    "df = pd.read_csv(\"phonedata.csv\", sep=\";\",\n",
    "                 parse_dates=[0], date_parser = dateparse, index_col=0)\n",
    "df"
   ]
  },
  {
   "cell_type": "code",
   "execution_count": 113,
   "metadata": {},
   "outputs": [],
   "source": [
    "# exploring basic data"
   ]
  },
  {
   "cell_type": "code",
   "execution_count": 114,
   "metadata": {},
   "outputs": [
    {
     "name": "stdout",
     "output_type": "stream",
     "text": [
      "<class 'pandas.core.frame.DataFrame'>\n",
      "DatetimeIndex: 13135 entries, 2019-03-09 00:00:00 to 2019-03-09 00:00:00.026267961\n",
      "Data columns (total 4 columns):\n",
      "Acceleration x (m/s^2)           13135 non-null float64\n",
      "Acceleration y (m/s^2)           13135 non-null float64\n",
      "Acceleration z (m/s^2)           13135 non-null float64\n",
      "Absolute acceleration (m/s^2)    13135 non-null float64\n",
      "dtypes: float64(4)\n",
      "memory usage: 513.1 KB\n"
     ]
    }
   ],
   "source": [
    "df.info()"
   ]
  },
  {
   "cell_type": "code",
   "execution_count": 115,
   "metadata": {},
   "outputs": [],
   "source": [
    "# activate matplotlib"
   ]
  },
  {
   "cell_type": "code",
   "execution_count": 116,
   "metadata": {},
   "outputs": [],
   "source": [
    "%matplotlib inline"
   ]
  },
  {
   "cell_type": "code",
   "execution_count": 117,
   "metadata": {},
   "outputs": [],
   "source": [
    "# plot the data"
   ]
  },
  {
   "cell_type": "code",
   "execution_count": 118,
   "metadata": {},
   "outputs": [
    {
     "data": {
      "text/plain": [
       "<matplotlib.axes._subplots.AxesSubplot at 0x1f8f7dfd550>"
      ]
     },
     "execution_count": 118,
     "metadata": {},
     "output_type": "execute_result"
    },
    {
     "data": {
      "image/png": "[encoded data removed]",
      "text/plain": [
       "<Figure size 432x288 with 1 Axes>"
      ]
     },
     "metadata": {
      "needs_background": "light"
     },
     "output_type": "display_data"
    }
   ],
   "source": [
    "df.plot()"
   ]
  }
 ],
 "metadata": {
  "kernelspec": {
   "display_name": "Python 3",
   "language": "python",
   "name": "python3"
  },
  "language_info": {
   "codemirror_mode": {
    "name": "ipython",
    "version": 3
   },
   "file_extension": ".py",
   "mimetype": "text/x-python",
   "name": "python",
   "nbconvert_exporter": "python",
   "pygments_lexer": "ipython3",
   "version": "3.7.1"
  }
 },
 "nbformat": 4,
 "nbformat_minor": 2
}
